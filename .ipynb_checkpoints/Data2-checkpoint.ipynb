{
 "cells": [
  {
   "cell_type": "code",
   "execution_count": 1,
   "metadata": {},
   "outputs": [],
   "source": [
    "import pandas as pd\n",
    "import numpy as np\n",
    "import seaborn as sns\n",
    "import datetime\n",
    "import matplotlib.pyplot as plt\n",
    "epoch=datetime.datetime.utcfromtimestamp(0)"
   ]
  },
  {
   "cell_type": "code",
   "execution_count": 83,
   "metadata": {},
   "outputs": [],
   "source": [
    "#importing the datasets\n",
    "missing_values=[\"NA\",\"na\",\" \",\"na\"]\n",
    "data=pd.ExcelFile('KPMG_VI_New_raw_data_update_final.xlsx')\n",
    "df=data.parse('CustomerDemographic',na_values=missing_values)\n",
    "d2=data.parse('Transactions',na_values=missing_values)\n",
    "d3=data.parse('CustomerAddress',na_values=missing_values)"
   ]
  },
  {
   "cell_type": "markdown",
   "metadata": {},
   "source": [
    "# CustomerDemographic\n"
   ]
  },
  {
   "cell_type": "code",
   "execution_count": 84,
   "metadata": {},
   "outputs": [
    {
     "name": "stdout",
     "output_type": "stream",
     "text": [
      "<class 'pandas.core.frame.DataFrame'>\n",
      "RangeIndex: 4000 entries, 0 to 3999\n",
      "Data columns (total 13 columns):\n",
      " #   Column                               Dtype         \n",
      "---  ------                               -----         \n",
      " 0   customer_id                          int64         \n",
      " 1   first_name                           object        \n",
      " 2   last_name                            object        \n",
      " 3   gender                               object        \n",
      " 4   past_3_years_bike_related_purchases  float64       \n",
      " 5   DOB                                  datetime64[ns]\n",
      " 6   job_title                            object        \n",
      " 7   job_industry_category                object        \n",
      " 8   wealth_segment                       object        \n",
      " 9   deceased_indicator                   object        \n",
      " 10  default                              object        \n",
      " 11  owns_car                             object        \n",
      " 12  tenure                               float64       \n",
      "dtypes: datetime64[ns](1), float64(2), int64(1), object(9)\n",
      "memory usage: 406.4+ KB\n"
     ]
    }
   ],
   "source": [
    "df.info(null_counts=False)"
   ]
  },
  {
   "cell_type": "code",
   "execution_count": 85,
   "metadata": {},
   "outputs": [
    {
     "data": {
      "text/plain": [
       "(4000, 13)"
      ]
     },
     "execution_count": 85,
     "metadata": {},
     "output_type": "execute_result"
    }
   ],
   "source": [
    "df.shape"
   ]
  },
  {
   "cell_type": "code",
   "execution_count": 86,
   "metadata": {},
   "outputs": [
    {
     "data": {
      "text/html": [
       "<div>\n",
       "<style scoped>\n",
       "    .dataframe tbody tr th:only-of-type {\n",
       "        vertical-align: middle;\n",
       "    }\n",
       "\n",
       "    .dataframe tbody tr th {\n",
       "        vertical-align: top;\n",
       "    }\n",
       "\n",
       "    .dataframe thead th {\n",
       "        text-align: right;\n",
       "    }\n",
       "</style>\n",
       "<table border=\"1\" class=\"dataframe\">\n",
       "  <thead>\n",
       "    <tr style=\"text-align: right;\">\n",
       "      <th></th>\n",
       "      <th>customer_id</th>\n",
       "      <th>first_name</th>\n",
       "      <th>last_name</th>\n",
       "      <th>gender</th>\n",
       "      <th>past_3_years_bike_related_purchases</th>\n",
       "      <th>DOB</th>\n",
       "      <th>job_title</th>\n",
       "      <th>job_industry_category</th>\n",
       "      <th>wealth_segment</th>\n",
       "      <th>deceased_indicator</th>\n",
       "      <th>default</th>\n",
       "      <th>owns_car</th>\n",
       "      <th>tenure</th>\n",
       "    </tr>\n",
       "  </thead>\n",
       "  <tbody>\n",
       "    <tr>\n",
       "      <th>count</th>\n",
       "      <td>4000.000000</td>\n",
       "      <td>4000</td>\n",
       "      <td>3875</td>\n",
       "      <td>4000</td>\n",
       "      <td>3999.000000</td>\n",
       "      <td>3913</td>\n",
       "      <td>3494</td>\n",
       "      <td>3344</td>\n",
       "      <td>4000</td>\n",
       "      <td>4000</td>\n",
       "      <td>3698.0</td>\n",
       "      <td>4000</td>\n",
       "      <td>3913.000000</td>\n",
       "    </tr>\n",
       "    <tr>\n",
       "      <th>unique</th>\n",
       "      <td>NaN</td>\n",
       "      <td>3139</td>\n",
       "      <td>3725</td>\n",
       "      <td>6</td>\n",
       "      <td>NaN</td>\n",
       "      <td>3448</td>\n",
       "      <td>195</td>\n",
       "      <td>9</td>\n",
       "      <td>3</td>\n",
       "      <td>2</td>\n",
       "      <td>90.0</td>\n",
       "      <td>2</td>\n",
       "      <td>NaN</td>\n",
       "    </tr>\n",
       "    <tr>\n",
       "      <th>top</th>\n",
       "      <td>NaN</td>\n",
       "      <td>Timmie</td>\n",
       "      <td>Ramsdell</td>\n",
       "      <td>Female</td>\n",
       "      <td>NaN</td>\n",
       "      <td>1978-01-30 00:00:00</td>\n",
       "      <td>Business Systems Development Analyst</td>\n",
       "      <td>Manufacturing</td>\n",
       "      <td>Mass Customer</td>\n",
       "      <td>N</td>\n",
       "      <td>100.0</td>\n",
       "      <td>Yes</td>\n",
       "      <td>NaN</td>\n",
       "    </tr>\n",
       "    <tr>\n",
       "      <th>freq</th>\n",
       "      <td>NaN</td>\n",
       "      <td>5</td>\n",
       "      <td>3</td>\n",
       "      <td>2037</td>\n",
       "      <td>NaN</td>\n",
       "      <td>7</td>\n",
       "      <td>45</td>\n",
       "      <td>799</td>\n",
       "      <td>2000</td>\n",
       "      <td>3998</td>\n",
       "      <td>113.0</td>\n",
       "      <td>2024</td>\n",
       "      <td>NaN</td>\n",
       "    </tr>\n",
       "    <tr>\n",
       "      <th>first</th>\n",
       "      <td>NaN</td>\n",
       "      <td>NaN</td>\n",
       "      <td>NaN</td>\n",
       "      <td>NaN</td>\n",
       "      <td>NaN</td>\n",
       "      <td>1843-12-21 00:00:00</td>\n",
       "      <td>NaN</td>\n",
       "      <td>NaN</td>\n",
       "      <td>NaN</td>\n",
       "      <td>NaN</td>\n",
       "      <td>NaN</td>\n",
       "      <td>NaN</td>\n",
       "      <td>NaN</td>\n",
       "    </tr>\n",
       "    <tr>\n",
       "      <th>last</th>\n",
       "      <td>NaN</td>\n",
       "      <td>NaN</td>\n",
       "      <td>NaN</td>\n",
       "      <td>NaN</td>\n",
       "      <td>NaN</td>\n",
       "      <td>2002-03-11 00:00:00</td>\n",
       "      <td>NaN</td>\n",
       "      <td>NaN</td>\n",
       "      <td>NaN</td>\n",
       "      <td>NaN</td>\n",
       "      <td>NaN</td>\n",
       "      <td>NaN</td>\n",
       "      <td>NaN</td>\n",
       "    </tr>\n",
       "    <tr>\n",
       "      <th>mean</th>\n",
       "      <td>2000.500000</td>\n",
       "      <td>NaN</td>\n",
       "      <td>NaN</td>\n",
       "      <td>NaN</td>\n",
       "      <td>49.878970</td>\n",
       "      <td>NaN</td>\n",
       "      <td>NaN</td>\n",
       "      <td>NaN</td>\n",
       "      <td>NaN</td>\n",
       "      <td>NaN</td>\n",
       "      <td>NaN</td>\n",
       "      <td>NaN</td>\n",
       "      <td>10.657041</td>\n",
       "    </tr>\n",
       "    <tr>\n",
       "      <th>std</th>\n",
       "      <td>1154.844867</td>\n",
       "      <td>NaN</td>\n",
       "      <td>NaN</td>\n",
       "      <td>NaN</td>\n",
       "      <td>68.720893</td>\n",
       "      <td>NaN</td>\n",
       "      <td>NaN</td>\n",
       "      <td>NaN</td>\n",
       "      <td>NaN</td>\n",
       "      <td>NaN</td>\n",
       "      <td>NaN</td>\n",
       "      <td>NaN</td>\n",
       "      <td>5.660146</td>\n",
       "    </tr>\n",
       "    <tr>\n",
       "      <th>min</th>\n",
       "      <td>1.000000</td>\n",
       "      <td>NaN</td>\n",
       "      <td>NaN</td>\n",
       "      <td>NaN</td>\n",
       "      <td>0.000000</td>\n",
       "      <td>NaN</td>\n",
       "      <td>NaN</td>\n",
       "      <td>NaN</td>\n",
       "      <td>NaN</td>\n",
       "      <td>NaN</td>\n",
       "      <td>NaN</td>\n",
       "      <td>NaN</td>\n",
       "      <td>1.000000</td>\n",
       "    </tr>\n",
       "    <tr>\n",
       "      <th>25%</th>\n",
       "      <td>1000.750000</td>\n",
       "      <td>NaN</td>\n",
       "      <td>NaN</td>\n",
       "      <td>NaN</td>\n",
       "      <td>24.000000</td>\n",
       "      <td>NaN</td>\n",
       "      <td>NaN</td>\n",
       "      <td>NaN</td>\n",
       "      <td>NaN</td>\n",
       "      <td>NaN</td>\n",
       "      <td>NaN</td>\n",
       "      <td>NaN</td>\n",
       "      <td>6.000000</td>\n",
       "    </tr>\n",
       "    <tr>\n",
       "      <th>50%</th>\n",
       "      <td>2000.500000</td>\n",
       "      <td>NaN</td>\n",
       "      <td>NaN</td>\n",
       "      <td>NaN</td>\n",
       "      <td>48.000000</td>\n",
       "      <td>NaN</td>\n",
       "      <td>NaN</td>\n",
       "      <td>NaN</td>\n",
       "      <td>NaN</td>\n",
       "      <td>NaN</td>\n",
       "      <td>NaN</td>\n",
       "      <td>NaN</td>\n",
       "      <td>11.000000</td>\n",
       "    </tr>\n",
       "    <tr>\n",
       "      <th>75%</th>\n",
       "      <td>3000.250000</td>\n",
       "      <td>NaN</td>\n",
       "      <td>NaN</td>\n",
       "      <td>NaN</td>\n",
       "      <td>73.000000</td>\n",
       "      <td>NaN</td>\n",
       "      <td>NaN</td>\n",
       "      <td>NaN</td>\n",
       "      <td>NaN</td>\n",
       "      <td>NaN</td>\n",
       "      <td>NaN</td>\n",
       "      <td>NaN</td>\n",
       "      <td>15.000000</td>\n",
       "    </tr>\n",
       "    <tr>\n",
       "      <th>max</th>\n",
       "      <td>4000.000000</td>\n",
       "      <td>NaN</td>\n",
       "      <td>NaN</td>\n",
       "      <td>NaN</td>\n",
       "      <td>3997.000000</td>\n",
       "      <td>NaN</td>\n",
       "      <td>NaN</td>\n",
       "      <td>NaN</td>\n",
       "      <td>NaN</td>\n",
       "      <td>NaN</td>\n",
       "      <td>NaN</td>\n",
       "      <td>NaN</td>\n",
       "      <td>22.000000</td>\n",
       "    </tr>\n",
       "  </tbody>\n",
       "</table>\n",
       "</div>"
      ],
      "text/plain": [
       "        customer_id first_name last_name  gender  \\\n",
       "count   4000.000000       4000      3875    4000   \n",
       "unique          NaN       3139      3725       6   \n",
       "top             NaN     Timmie  Ramsdell  Female   \n",
       "freq            NaN          5         3    2037   \n",
       "first           NaN        NaN       NaN     NaN   \n",
       "last            NaN        NaN       NaN     NaN   \n",
       "mean    2000.500000        NaN       NaN     NaN   \n",
       "std     1154.844867        NaN       NaN     NaN   \n",
       "min        1.000000        NaN       NaN     NaN   \n",
       "25%     1000.750000        NaN       NaN     NaN   \n",
       "50%     2000.500000        NaN       NaN     NaN   \n",
       "75%     3000.250000        NaN       NaN     NaN   \n",
       "max     4000.000000        NaN       NaN     NaN   \n",
       "\n",
       "        past_3_years_bike_related_purchases                  DOB  \\\n",
       "count                           3999.000000                 3913   \n",
       "unique                                  NaN                 3448   \n",
       "top                                     NaN  1978-01-30 00:00:00   \n",
       "freq                                    NaN                    7   \n",
       "first                                   NaN  1843-12-21 00:00:00   \n",
       "last                                    NaN  2002-03-11 00:00:00   \n",
       "mean                              49.878970                  NaN   \n",
       "std                               68.720893                  NaN   \n",
       "min                                0.000000                  NaN   \n",
       "25%                               24.000000                  NaN   \n",
       "50%                               48.000000                  NaN   \n",
       "75%                               73.000000                  NaN   \n",
       "max                             3997.000000                  NaN   \n",
       "\n",
       "                                   job_title job_industry_category  \\\n",
       "count                                   3494                  3344   \n",
       "unique                                   195                     9   \n",
       "top     Business Systems Development Analyst         Manufacturing   \n",
       "freq                                      45                   799   \n",
       "first                                    NaN                   NaN   \n",
       "last                                     NaN                   NaN   \n",
       "mean                                     NaN                   NaN   \n",
       "std                                      NaN                   NaN   \n",
       "min                                      NaN                   NaN   \n",
       "25%                                      NaN                   NaN   \n",
       "50%                                      NaN                   NaN   \n",
       "75%                                      NaN                   NaN   \n",
       "max                                      NaN                   NaN   \n",
       "\n",
       "       wealth_segment deceased_indicator  default owns_car       tenure  \n",
       "count            4000               4000   3698.0     4000  3913.000000  \n",
       "unique              3                  2     90.0        2          NaN  \n",
       "top     Mass Customer                  N    100.0      Yes          NaN  \n",
       "freq             2000               3998    113.0     2024          NaN  \n",
       "first             NaN                NaN      NaN      NaN          NaN  \n",
       "last              NaN                NaN      NaN      NaN          NaN  \n",
       "mean              NaN                NaN      NaN      NaN    10.657041  \n",
       "std               NaN                NaN      NaN      NaN     5.660146  \n",
       "min               NaN                NaN      NaN      NaN     1.000000  \n",
       "25%               NaN                NaN      NaN      NaN     6.000000  \n",
       "50%               NaN                NaN      NaN      NaN    11.000000  \n",
       "75%               NaN                NaN      NaN      NaN    15.000000  \n",
       "max               NaN                NaN      NaN      NaN    22.000000  "
      ]
     },
     "execution_count": 86,
     "metadata": {},
     "output_type": "execute_result"
    }
   ],
   "source": [
    "df.describe(include='all')"
   ]
  },
  {
   "cell_type": "code",
   "execution_count": 87,
   "metadata": {},
   "outputs": [
    {
     "data": {
      "text/plain": [
       "customer_id                              0\n",
       "first_name                               0\n",
       "last_name                              125\n",
       "gender                                   0\n",
       "past_3_years_bike_related_purchases      1\n",
       "DOB                                     87\n",
       "job_title                              506\n",
       "job_industry_category                  656\n",
       "wealth_segment                           0\n",
       "deceased_indicator                       0\n",
       "default                                302\n",
       "owns_car                                 0\n",
       "tenure                                  87\n",
       "dtype: int64"
      ]
     },
     "execution_count": 87,
     "metadata": {},
     "output_type": "execute_result"
    }
   ],
   "source": [
    "df.isnull().sum()#no. of null values in each column"
   ]
  },
  {
   "cell_type": "code",
   "execution_count": 88,
   "metadata": {},
   "outputs": [
    {
     "name": "stdout",
     "output_type": "stream",
     "text": [
      "87\n"
     ]
    }
   ],
   "source": [
    "#converting the DOB into Age\n",
    "df['DOB']=pd.to_datetime(df['DOB'])\n",
    "df['birth_year']=df['DOB'].dt.year\n",
    "df.drop('DOB',axis=1,inplace=True)\n",
    "print(df['birth_year'].isnull().sum())\n",
    "df['Age']=2020-df['birth_year']\n",
    "df.drop('birth_year',axis=1,inplace=True)"
   ]
  },
  {
   "cell_type": "code",
   "execution_count": 89,
   "metadata": {},
   "outputs": [
    {
     "data": {
      "text/html": [
       "<div>\n",
       "<style scoped>\n",
       "    .dataframe tbody tr th:only-of-type {\n",
       "        vertical-align: middle;\n",
       "    }\n",
       "\n",
       "    .dataframe tbody tr th {\n",
       "        vertical-align: top;\n",
       "    }\n",
       "\n",
       "    .dataframe thead th {\n",
       "        text-align: right;\n",
       "    }\n",
       "</style>\n",
       "<table border=\"1\" class=\"dataframe\">\n",
       "  <thead>\n",
       "    <tr style=\"text-align: right;\">\n",
       "      <th></th>\n",
       "      <th>customer_id</th>\n",
       "      <th>first_name</th>\n",
       "      <th>last_name</th>\n",
       "      <th>gender</th>\n",
       "      <th>past_3_years_bike_related_purchases</th>\n",
       "      <th>job_industry_category</th>\n",
       "      <th>wealth_segment</th>\n",
       "      <th>deceased_indicator</th>\n",
       "      <th>owns_car</th>\n",
       "      <th>tenure</th>\n",
       "      <th>Age</th>\n",
       "    </tr>\n",
       "  </thead>\n",
       "  <tbody>\n",
       "    <tr>\n",
       "      <th>0</th>\n",
       "      <td>1</td>\n",
       "      <td>Laraine</td>\n",
       "      <td>Medendorp</td>\n",
       "      <td>F</td>\n",
       "      <td>93.0</td>\n",
       "      <td>Health</td>\n",
       "      <td>Mass Customer</td>\n",
       "      <td>N</td>\n",
       "      <td>Yes</td>\n",
       "      <td>11.0</td>\n",
       "      <td>67.0</td>\n",
       "    </tr>\n",
       "    <tr>\n",
       "      <th>1</th>\n",
       "      <td>2</td>\n",
       "      <td>Eli</td>\n",
       "      <td>Bockman</td>\n",
       "      <td>Male</td>\n",
       "      <td>81.0</td>\n",
       "      <td>Financial Services</td>\n",
       "      <td>Mass Customer</td>\n",
       "      <td>N</td>\n",
       "      <td>Yes</td>\n",
       "      <td>16.0</td>\n",
       "      <td>40.0</td>\n",
       "    </tr>\n",
       "    <tr>\n",
       "      <th>2</th>\n",
       "      <td>3</td>\n",
       "      <td>Arlin</td>\n",
       "      <td>Dearle</td>\n",
       "      <td>Male</td>\n",
       "      <td>61.0</td>\n",
       "      <td>Property</td>\n",
       "      <td>Mass Customer</td>\n",
       "      <td>N</td>\n",
       "      <td>Yes</td>\n",
       "      <td>15.0</td>\n",
       "      <td>66.0</td>\n",
       "    </tr>\n",
       "    <tr>\n",
       "      <th>3</th>\n",
       "      <td>4</td>\n",
       "      <td>Talbot</td>\n",
       "      <td>NaN</td>\n",
       "      <td>Male</td>\n",
       "      <td>33.0</td>\n",
       "      <td>IT</td>\n",
       "      <td>Mass Customer</td>\n",
       "      <td>N</td>\n",
       "      <td>No</td>\n",
       "      <td>7.0</td>\n",
       "      <td>59.0</td>\n",
       "    </tr>\n",
       "    <tr>\n",
       "      <th>4</th>\n",
       "      <td>5</td>\n",
       "      <td>Sheila-kathryn</td>\n",
       "      <td>Calton</td>\n",
       "      <td>Female</td>\n",
       "      <td>3997.0</td>\n",
       "      <td>NaN</td>\n",
       "      <td>Affluent Customer</td>\n",
       "      <td>N</td>\n",
       "      <td>Yes</td>\n",
       "      <td>8.0</td>\n",
       "      <td>43.0</td>\n",
       "    </tr>\n",
       "  </tbody>\n",
       "</table>\n",
       "</div>"
      ],
      "text/plain": [
       "   customer_id      first_name  last_name  gender  \\\n",
       "0            1         Laraine  Medendorp       F   \n",
       "1            2             Eli    Bockman    Male   \n",
       "2            3           Arlin     Dearle    Male   \n",
       "3            4          Talbot        NaN    Male   \n",
       "4            5  Sheila-kathryn     Calton  Female   \n",
       "\n",
       "   past_3_years_bike_related_purchases job_industry_category  \\\n",
       "0                                 93.0                Health   \n",
       "1                                 81.0    Financial Services   \n",
       "2                                 61.0              Property   \n",
       "3                                 33.0                    IT   \n",
       "4                               3997.0                   NaN   \n",
       "\n",
       "      wealth_segment deceased_indicator owns_car  tenure   Age  \n",
       "0      Mass Customer                  N      Yes    11.0  67.0  \n",
       "1      Mass Customer                  N      Yes    16.0  40.0  \n",
       "2      Mass Customer                  N      Yes    15.0  66.0  \n",
       "3      Mass Customer                  N       No     7.0  59.0  \n",
       "4  Affluent Customer                  N      Yes     8.0  43.0  "
      ]
     },
     "execution_count": 89,
     "metadata": {},
     "output_type": "execute_result"
    }
   ],
   "source": [
    "#dropping unnecessary data\n",
    "df.drop(['job_title','default'],axis=1,inplace=True)\n",
    "df.head()"
   ]
  },
  {
   "cell_type": "code",
   "execution_count": 90,
   "metadata": {},
   "outputs": [],
   "source": [
    "\n",
    "df.drop(['last_name'],axis=1,inplace=True)"
   ]
  },
  {
   "cell_type": "code",
   "execution_count": 91,
   "metadata": {},
   "outputs": [
    {
     "name": "stdout",
     "output_type": "stream",
     "text": [
      "Index(['customer_id', 'past_3_years_bike_related_purchases', 'tenure', 'Age'], dtype='object')\n"
     ]
    }
   ],
   "source": [
    "#selecting the columns with float and int values\n",
    "cols=df.select_dtypes([np.int64,np.float64]).columns\n",
    "print(cols)"
   ]
  },
  {
   "cell_type": "code",
   "execution_count": 92,
   "metadata": {},
   "outputs": [],
   "source": [
    "#filling the nan value of these columns using mean\n",
    "for i in range(len(cols)):\n",
    "    df[cols[i]].fillna((df[cols[i]].mean()),inplace=True)\n",
    "    "
   ]
  },
  {
   "cell_type": "code",
   "execution_count": 93,
   "metadata": {},
   "outputs": [
    {
     "data": {
      "text/plain": [
       "Female    2037\n",
       "Male      1872\n",
       "U           88\n",
       "Femal        1\n",
       "F            1\n",
       "M            1\n",
       "Name: gender, dtype: int64"
      ]
     },
     "execution_count": 93,
     "metadata": {},
     "output_type": "execute_result"
    }
   ],
   "source": [
    "df['gender'].value_counts()"
   ]
  },
  {
   "cell_type": "code",
   "execution_count": 94,
   "metadata": {},
   "outputs": [],
   "source": [
    "#replacing the gender only to Male,Female and Unknown.\n",
    "df['gender'].replace(['F','Femal','M'],['Female','Female','Male'],inplace=True)"
   ]
  },
  {
   "cell_type": "code",
   "execution_count": 95,
   "metadata": {},
   "outputs": [
    {
     "data": {
      "text/html": [
       "<div>\n",
       "<style scoped>\n",
       "    .dataframe tbody tr th:only-of-type {\n",
       "        vertical-align: middle;\n",
       "    }\n",
       "\n",
       "    .dataframe tbody tr th {\n",
       "        vertical-align: top;\n",
       "    }\n",
       "\n",
       "    .dataframe thead th {\n",
       "        text-align: right;\n",
       "    }\n",
       "</style>\n",
       "<table border=\"1\" class=\"dataframe\">\n",
       "  <thead>\n",
       "    <tr style=\"text-align: right;\">\n",
       "      <th></th>\n",
       "      <th>customer_id</th>\n",
       "      <th>first_name</th>\n",
       "      <th>gender</th>\n",
       "      <th>past_3_years_bike_related_purchases</th>\n",
       "      <th>job_industry_category</th>\n",
       "      <th>wealth_segment</th>\n",
       "      <th>deceased_indicator</th>\n",
       "      <th>owns_car</th>\n",
       "      <th>tenure</th>\n",
       "      <th>Age</th>\n",
       "    </tr>\n",
       "  </thead>\n",
       "  <tbody>\n",
       "    <tr>\n",
       "      <th>4</th>\n",
       "      <td>5</td>\n",
       "      <td>Sheila-kathryn</td>\n",
       "      <td>Female</td>\n",
       "      <td>3997.0</td>\n",
       "      <td>NaN</td>\n",
       "      <td>Affluent Customer</td>\n",
       "      <td>N</td>\n",
       "      <td>Yes</td>\n",
       "      <td>8.0</td>\n",
       "      <td>43.0</td>\n",
       "    </tr>\n",
       "    <tr>\n",
       "      <th>1097</th>\n",
       "      <td>1098</td>\n",
       "      <td>Maure</td>\n",
       "      <td>Female</td>\n",
       "      <td>99.0</td>\n",
       "      <td>Financial Services</td>\n",
       "      <td>Mass Customer</td>\n",
       "      <td>N</td>\n",
       "      <td>Yes</td>\n",
       "      <td>12.0</td>\n",
       "      <td>31.0</td>\n",
       "    </tr>\n",
       "    <tr>\n",
       "      <th>2331</th>\n",
       "      <td>2332</td>\n",
       "      <td>Jeff</td>\n",
       "      <td>Male</td>\n",
       "      <td>99.0</td>\n",
       "      <td>Property</td>\n",
       "      <td>High Net Worth</td>\n",
       "      <td>N</td>\n",
       "      <td>Yes</td>\n",
       "      <td>10.0</td>\n",
       "      <td>43.0</td>\n",
       "    </tr>\n",
       "    <tr>\n",
       "      <th>1451</th>\n",
       "      <td>1452</td>\n",
       "      <td>Zachery</td>\n",
       "      <td>Male</td>\n",
       "      <td>99.0</td>\n",
       "      <td>Retail</td>\n",
       "      <td>Mass Customer</td>\n",
       "      <td>N</td>\n",
       "      <td>No</td>\n",
       "      <td>20.0</td>\n",
       "      <td>65.0</td>\n",
       "    </tr>\n",
       "    <tr>\n",
       "      <th>1456</th>\n",
       "      <td>1457</td>\n",
       "      <td>Leonore</td>\n",
       "      <td>Female</td>\n",
       "      <td>99.0</td>\n",
       "      <td>NaN</td>\n",
       "      <td>Affluent Customer</td>\n",
       "      <td>N</td>\n",
       "      <td>Yes</td>\n",
       "      <td>12.0</td>\n",
       "      <td>42.0</td>\n",
       "    </tr>\n",
       "  </tbody>\n",
       "</table>\n",
       "</div>"
      ],
      "text/plain": [
       "      customer_id      first_name  gender  \\\n",
       "4               5  Sheila-kathryn  Female   \n",
       "1097         1098           Maure  Female   \n",
       "2331         2332            Jeff    Male   \n",
       "1451         1452         Zachery    Male   \n",
       "1456         1457         Leonore  Female   \n",
       "\n",
       "      past_3_years_bike_related_purchases job_industry_category  \\\n",
       "4                                  3997.0                   NaN   \n",
       "1097                                 99.0    Financial Services   \n",
       "2331                                 99.0              Property   \n",
       "1451                                 99.0                Retail   \n",
       "1456                                 99.0                   NaN   \n",
       "\n",
       "         wealth_segment deceased_indicator owns_car  tenure   Age  \n",
       "4     Affluent Customer                  N      Yes     8.0  43.0  \n",
       "1097      Mass Customer                  N      Yes    12.0  31.0  \n",
       "2331     High Net Worth                  N      Yes    10.0  43.0  \n",
       "1451      Mass Customer                  N       No    20.0  65.0  \n",
       "1456  Affluent Customer                  N      Yes    12.0  42.0  "
      ]
     },
     "execution_count": 95,
     "metadata": {},
     "output_type": "execute_result"
    }
   ],
   "source": [
    "#Sorting according to the bikes purchased in last 3 years\n",
    "df=df.sort_values('past_3_years_bike_related_purchases',ascending=False)\n",
    "df.head()"
   ]
  },
  {
   "cell_type": "code",
   "execution_count": 96,
   "metadata": {},
   "outputs": [
    {
     "data": {
      "text/plain": [
       "Text(0, 0.5, 'past_3_years_bike_related_purchases')"
      ]
     },
     "execution_count": 96,
     "metadata": {},
     "output_type": "execute_result"
    },
    {
     "data": {
      "image/png": "[encoded data removed]",
      "text/plain": [
       "<Figure size 432x288 with 1 Axes>"
      ]
     },
     "metadata": {
      "needs_background": "light"
     },
     "output_type": "display_data"
    }
   ],
   "source": [
    "#graph of bikes purchased in past 3 years VS gender\n",
    "df.groupby('gender').agg('mean')[\"past_3_years_bike_related_purchases\"].plot(kind='bar')\n",
    "plt.ylabel(\"past_3_years_bike_related_purchases\")"
   ]
  },
  {
   "cell_type": "code",
   "execution_count": 97,
   "metadata": {},
   "outputs": [
    {
     "data": {
      "text/plain": [
       "Text(0, 0.5, 'past_3_years_bike_related_purchases')"
      ]
     },
     "execution_count": 97,
     "metadata": {},
     "output_type": "execute_result"
    },
    {
     "data": {
      "image/png": "[encoded data removed]",
      "text/plain": [
       "<Figure size 432x288 with 1 Axes>"
      ]
     },
     "metadata": {
      "needs_background": "light"
     },
     "output_type": "display_data"
    }
   ],
   "source": [
    "#Age range VS past 3 year bikes purchase\n",
    "df['age_bins']=pd.cut(df['Age'],bins=[20,40,60,90])\n",
    "df.groupby('age_bins').agg('sum')['past_3_years_bike_related_purchases'].plot(kind='bar')\n",
    "plt.ylabel('past_3_years_bike_related_purchases')"
   ]
  },
  {
   "cell_type": "code",
   "execution_count": 98,
   "metadata": {},
   "outputs": [
    {
     "data": {
      "text/plain": [
       "Text(0, 0.5, 'past_3_years_bike_related_purchases')"
      ]
     },
     "execution_count": 98,
     "metadata": {},
     "output_type": "execute_result"
    },
    {
     "data": {
      "image/png": "[encoded data removed]",
      "text/plain": [
       "<Figure size 432x288 with 1 Axes>"
      ]
     },
     "metadata": {
      "needs_background": "light"
     },
     "output_type": "display_data"
    }
   ],
   "source": [
    "#graph for Wealth segment VS past 3 years bike purchase\n",
    "df.groupby('wealth_segment').agg('sum')['past_3_years_bike_related_purchases'].plot(kind='bar')\n",
    "plt.ylabel(\"past_3_years_bike_related_purchases\")"
   ]
  },
  {
   "cell_type": "code",
   "execution_count": 99,
   "metadata": {},
   "outputs": [
    {
     "data": {
      "text/plain": [
       "Text(0, 0.5, 'past_3_years_bike_related_purchases')"
      ]
     },
     "execution_count": 99,
     "metadata": {},
     "output_type": "execute_result"
    },
    {
     "data": {
      "image/png": "[encoded data removed]",
      "text/plain": [
       "<Figure size 432x288 with 1 Axes>"
      ]
     },
     "metadata": {
      "needs_background": "light"
     },
     "output_type": "display_data"
    }
   ],
   "source": [
    "#Job industry vs past 3 year bikes purchase\n",
    "f.groupby('job_industry_category').agg('sum')['past_3_years_bike_related_purchases'].plot(kind='bar')\n",
    "plt.ylabel(\"past_3_years_bike_related_purchases\")"
   ]
  },
  {
   "cell_type": "markdown",
   "metadata": {},
   "source": [
    "# Transactions\n"
   ]
  },
  {
   "cell_type": "code",
   "execution_count": 100,
   "metadata": {},
   "outputs": [
    {
     "data": {
      "text/plain": [
       "(3999, 6)"
      ]
     },
     "execution_count": 100,
     "metadata": {},
     "output_type": "execute_result"
    }
   ],
   "source": [
    "d3.shape"
   ]
  },
  {
   "cell_type": "code",
   "execution_count": 101,
   "metadata": {},
   "outputs": [
    {
     "data": {
      "text/plain": [
       "0        2950\n",
       "1        3120\n",
       "2         402\n",
       "3        3135\n",
       "4         787\n",
       "         ... \n",
       "19995    1018\n",
       "19996     127\n",
       "19997    2284\n",
       "19998    2764\n",
       "19999    1144\n",
       "Name: customer_id, Length: 20000, dtype: int64"
      ]
     },
     "execution_count": 101,
     "metadata": {},
     "output_type": "execute_result"
    }
   ],
   "source": [
    "d2['customer_id']"
   ]
  },
  {
   "cell_type": "code",
   "execution_count": 102,
   "metadata": {},
   "outputs": [],
   "source": [
    "d2.drop(['transaction_date'],axis=1,inplace=True)"
   ]
  },
  {
   "cell_type": "code",
   "execution_count": 103,
   "metadata": {},
   "outputs": [
    {
     "data": {
      "text/html": [
       "<div>\n",
       "<style scoped>\n",
       "    .dataframe tbody tr th:only-of-type {\n",
       "        vertical-align: middle;\n",
       "    }\n",
       "\n",
       "    .dataframe tbody tr th {\n",
       "        vertical-align: top;\n",
       "    }\n",
       "\n",
       "    .dataframe thead th {\n",
       "        text-align: right;\n",
       "    }\n",
       "</style>\n",
       "<table border=\"1\" class=\"dataframe\">\n",
       "  <thead>\n",
       "    <tr style=\"text-align: right;\">\n",
       "      <th></th>\n",
       "      <th>transaction_id</th>\n",
       "      <th>product_id</th>\n",
       "      <th>customer_id</th>\n",
       "      <th>online_order</th>\n",
       "      <th>order_status</th>\n",
       "      <th>brand</th>\n",
       "      <th>product_line</th>\n",
       "      <th>product_class</th>\n",
       "      <th>product_size</th>\n",
       "      <th>list_price</th>\n",
       "      <th>standard_cost</th>\n",
       "      <th>product_first_sold_date</th>\n",
       "    </tr>\n",
       "  </thead>\n",
       "  <tbody>\n",
       "    <tr>\n",
       "      <th>0</th>\n",
       "      <td>1</td>\n",
       "      <td>2</td>\n",
       "      <td>2950</td>\n",
       "      <td>0.0</td>\n",
       "      <td>Approved</td>\n",
       "      <td>Solex</td>\n",
       "      <td>Standard</td>\n",
       "      <td>medium</td>\n",
       "      <td>medium</td>\n",
       "      <td>71.49</td>\n",
       "      <td>53.62</td>\n",
       "      <td>41245.0</td>\n",
       "    </tr>\n",
       "    <tr>\n",
       "      <th>1</th>\n",
       "      <td>2</td>\n",
       "      <td>3</td>\n",
       "      <td>3120</td>\n",
       "      <td>1.0</td>\n",
       "      <td>Approved</td>\n",
       "      <td>Trek Bicycles</td>\n",
       "      <td>Standard</td>\n",
       "      <td>medium</td>\n",
       "      <td>large</td>\n",
       "      <td>2091.47</td>\n",
       "      <td>388.92</td>\n",
       "      <td>41701.0</td>\n",
       "    </tr>\n",
       "    <tr>\n",
       "      <th>2</th>\n",
       "      <td>3</td>\n",
       "      <td>37</td>\n",
       "      <td>402</td>\n",
       "      <td>0.0</td>\n",
       "      <td>Approved</td>\n",
       "      <td>OHM Cycles</td>\n",
       "      <td>Standard</td>\n",
       "      <td>low</td>\n",
       "      <td>medium</td>\n",
       "      <td>1793.43</td>\n",
       "      <td>248.82</td>\n",
       "      <td>36361.0</td>\n",
       "    </tr>\n",
       "    <tr>\n",
       "      <th>3</th>\n",
       "      <td>4</td>\n",
       "      <td>88</td>\n",
       "      <td>3135</td>\n",
       "      <td>0.0</td>\n",
       "      <td>Approved</td>\n",
       "      <td>Norco Bicycles</td>\n",
       "      <td>Standard</td>\n",
       "      <td>medium</td>\n",
       "      <td>medium</td>\n",
       "      <td>1198.46</td>\n",
       "      <td>381.10</td>\n",
       "      <td>36145.0</td>\n",
       "    </tr>\n",
       "    <tr>\n",
       "      <th>4</th>\n",
       "      <td>5</td>\n",
       "      <td>78</td>\n",
       "      <td>787</td>\n",
       "      <td>1.0</td>\n",
       "      <td>Approved</td>\n",
       "      <td>Giant Bicycles</td>\n",
       "      <td>Standard</td>\n",
       "      <td>medium</td>\n",
       "      <td>large</td>\n",
       "      <td>1765.30</td>\n",
       "      <td>709.48</td>\n",
       "      <td>42226.0</td>\n",
       "    </tr>\n",
       "    <tr>\n",
       "      <th>...</th>\n",
       "      <td>...</td>\n",
       "      <td>...</td>\n",
       "      <td>...</td>\n",
       "      <td>...</td>\n",
       "      <td>...</td>\n",
       "      <td>...</td>\n",
       "      <td>...</td>\n",
       "      <td>...</td>\n",
       "      <td>...</td>\n",
       "      <td>...</td>\n",
       "      <td>...</td>\n",
       "      <td>...</td>\n",
       "    </tr>\n",
       "    <tr>\n",
       "      <th>19995</th>\n",
       "      <td>19996</td>\n",
       "      <td>51</td>\n",
       "      <td>1018</td>\n",
       "      <td>1.0</td>\n",
       "      <td>Approved</td>\n",
       "      <td>OHM Cycles</td>\n",
       "      <td>Standard</td>\n",
       "      <td>high</td>\n",
       "      <td>medium</td>\n",
       "      <td>2005.66</td>\n",
       "      <td>1203.40</td>\n",
       "      <td>37823.0</td>\n",
       "    </tr>\n",
       "    <tr>\n",
       "      <th>19996</th>\n",
       "      <td>19997</td>\n",
       "      <td>41</td>\n",
       "      <td>127</td>\n",
       "      <td>1.0</td>\n",
       "      <td>Approved</td>\n",
       "      <td>Solex</td>\n",
       "      <td>Road</td>\n",
       "      <td>medium</td>\n",
       "      <td>medium</td>\n",
       "      <td>416.98</td>\n",
       "      <td>312.74</td>\n",
       "      <td>35560.0</td>\n",
       "    </tr>\n",
       "    <tr>\n",
       "      <th>19997</th>\n",
       "      <td>19998</td>\n",
       "      <td>87</td>\n",
       "      <td>2284</td>\n",
       "      <td>1.0</td>\n",
       "      <td>Approved</td>\n",
       "      <td>OHM Cycles</td>\n",
       "      <td>Standard</td>\n",
       "      <td>medium</td>\n",
       "      <td>medium</td>\n",
       "      <td>1636.90</td>\n",
       "      <td>44.71</td>\n",
       "      <td>40410.0</td>\n",
       "    </tr>\n",
       "    <tr>\n",
       "      <th>19998</th>\n",
       "      <td>19999</td>\n",
       "      <td>6</td>\n",
       "      <td>2764</td>\n",
       "      <td>0.0</td>\n",
       "      <td>Approved</td>\n",
       "      <td>OHM Cycles</td>\n",
       "      <td>Standard</td>\n",
       "      <td>high</td>\n",
       "      <td>medium</td>\n",
       "      <td>227.88</td>\n",
       "      <td>136.73</td>\n",
       "      <td>38216.0</td>\n",
       "    </tr>\n",
       "    <tr>\n",
       "      <th>19999</th>\n",
       "      <td>20000</td>\n",
       "      <td>11</td>\n",
       "      <td>1144</td>\n",
       "      <td>1.0</td>\n",
       "      <td>Approved</td>\n",
       "      <td>Trek Bicycles</td>\n",
       "      <td>Standard</td>\n",
       "      <td>medium</td>\n",
       "      <td>small</td>\n",
       "      <td>1775.81</td>\n",
       "      <td>1580.47</td>\n",
       "      <td>36334.0</td>\n",
       "    </tr>\n",
       "  </tbody>\n",
       "</table>\n",
       "<p>20000 rows × 12 columns</p>\n",
       "</div>"
      ],
      "text/plain": [
       "       transaction_id  product_id  customer_id  online_order order_status  \\\n",
       "0                   1           2         2950           0.0     Approved   \n",
       "1                   2           3         3120           1.0     Approved   \n",
       "2                   3          37          402           0.0     Approved   \n",
       "3                   4          88         3135           0.0     Approved   \n",
       "4                   5          78          787           1.0     Approved   \n",
       "...               ...         ...          ...           ...          ...   \n",
       "19995           19996          51         1018           1.0     Approved   \n",
       "19996           19997          41          127           1.0     Approved   \n",
       "19997           19998          87         2284           1.0     Approved   \n",
       "19998           19999           6         2764           0.0     Approved   \n",
       "19999           20000          11         1144           1.0     Approved   \n",
       "\n",
       "                brand product_line product_class product_size  list_price  \\\n",
       "0               Solex     Standard        medium       medium       71.49   \n",
       "1       Trek Bicycles     Standard        medium        large     2091.47   \n",
       "2          OHM Cycles     Standard           low       medium     1793.43   \n",
       "3      Norco Bicycles     Standard        medium       medium     1198.46   \n",
       "4      Giant Bicycles     Standard        medium        large     1765.30   \n",
       "...               ...          ...           ...          ...         ...   \n",
       "19995      OHM Cycles     Standard          high       medium     2005.66   \n",
       "19996           Solex         Road        medium       medium      416.98   \n",
       "19997      OHM Cycles     Standard        medium       medium     1636.90   \n",
       "19998      OHM Cycles     Standard          high       medium      227.88   \n",
       "19999   Trek Bicycles     Standard        medium        small     1775.81   \n",
       "\n",
       "       standard_cost  product_first_sold_date  \n",
       "0              53.62                  41245.0  \n",
       "1             388.92                  41701.0  \n",
       "2             248.82                  36361.0  \n",
       "3             381.10                  36145.0  \n",
       "4             709.48                  42226.0  \n",
       "...              ...                      ...  \n",
       "19995        1203.40                  37823.0  \n",
       "19996         312.74                  35560.0  \n",
       "19997          44.71                  40410.0  \n",
       "19998         136.73                  38216.0  \n",
       "19999        1580.47                  36334.0  \n",
       "\n",
       "[20000 rows x 12 columns]"
      ]
     },
     "execution_count": 103,
     "metadata": {},
     "output_type": "execute_result"
    }
   ],
   "source": [
    "d2 "
   ]
  },
  {
   "cell_type": "code",
   "execution_count": 104,
   "metadata": {},
   "outputs": [],
   "source": [
    "d2.drop(['transaction_id','order_status','product_class'],axis=1,inplace=True)"
   ]
  },
  {
   "cell_type": "code",
   "execution_count": 105,
   "metadata": {},
   "outputs": [],
   "source": [
    "profit=d2['list_price']-d2['standard_cost']#calculating profit from list price and standard cost.\n",
    "d2.insert(9,'profit',profit)"
   ]
  },
  {
   "cell_type": "code",
   "execution_count": 106,
   "metadata": {},
   "outputs": [],
   "source": [
    "d2['product_first_sold_date'] = pd.to_timedelta(d2['product_first_sold_date'],unit='D')+pd.to_datetime('1899-12-30')  "
   ]
  },
  {
   "cell_type": "code",
   "execution_count": 107,
   "metadata": {},
   "outputs": [
    {
     "data": {
      "text/plain": [
       "product_id                   0\n",
       "customer_id                  0\n",
       "online_order               360\n",
       "brand                      197\n",
       "product_line               197\n",
       "product_size               197\n",
       "list_price                   0\n",
       "standard_cost              197\n",
       "product_first_sold_date    197\n",
       "profit                     197\n",
       "dtype: int64"
      ]
     },
     "execution_count": 107,
     "metadata": {},
     "output_type": "execute_result"
    }
   ],
   "source": [
    "d2.isnull().sum()#finding the null values."
   ]
  },
  {
   "cell_type": "code",
   "execution_count": 108,
   "metadata": {},
   "outputs": [
    {
     "name": "stderr",
     "output_type": "stream",
     "text": [
      "C:\\Users\\hp\\anaconda3\\lib\\site-packages\\numpy\\lib\\histograms.py:839: RuntimeWarning: invalid value encountered in greater_equal\n",
      "  keep = (tmp_a >= first_edge)\n",
      "C:\\Users\\hp\\anaconda3\\lib\\site-packages\\numpy\\lib\\histograms.py:840: RuntimeWarning: invalid value encountered in less_equal\n",
      "  keep &= (tmp_a <= last_edge)\n"
     ]
    },
    {
     "data": {
      "text/plain": [
       "(array([6520., 2483., 2733.,  750., 2640.,  763.,  823., 1192.,  407.,\n",
       "        1492.]),\n",
       " array([   4.8  ,  174.575,  344.35 ,  514.125,  683.9  ,  853.675,\n",
       "        1023.45 , 1193.225, 1363.   , 1532.775, 1702.55 ]),\n",
       " <a list of 10 Patch objects>)"
      ]
     },
     "execution_count": 108,
     "metadata": {},
     "output_type": "execute_result"
    },
    {
     "data": {
      "image/png": "[encoded data removed]",
      "text/plain": [
       "<Figure size 432x288 with 1 Axes>"
      ]
     },
     "metadata": {
      "needs_background": "light"
     },
     "output_type": "display_data"
    }
   ],
   "source": [
    "plt.hist(d2['profit'])#histogram of profit\n"
   ]
  },
  {
   "cell_type": "code",
   "execution_count": 109,
   "metadata": {},
   "outputs": [
    {
     "data": {
      "text/html": [
       "<div>\n",
       "<style scoped>\n",
       "    .dataframe tbody tr th:only-of-type {\n",
       "        vertical-align: middle;\n",
       "    }\n",
       "\n",
       "    .dataframe tbody tr th {\n",
       "        vertical-align: top;\n",
       "    }\n",
       "\n",
       "    .dataframe thead th {\n",
       "        text-align: right;\n",
       "    }\n",
       "</style>\n",
       "<table border=\"1\" class=\"dataframe\">\n",
       "  <thead>\n",
       "    <tr style=\"text-align: right;\">\n",
       "      <th></th>\n",
       "      <th>product_id</th>\n",
       "      <th>customer_id</th>\n",
       "      <th>online_order</th>\n",
       "      <th>list_price</th>\n",
       "      <th>standard_cost</th>\n",
       "      <th>profit</th>\n",
       "    </tr>\n",
       "  </thead>\n",
       "  <tbody>\n",
       "    <tr>\n",
       "      <th>count</th>\n",
       "      <td>20000.00000</td>\n",
       "      <td>20000.000000</td>\n",
       "      <td>19640.000000</td>\n",
       "      <td>20000.000000</td>\n",
       "      <td>19803.000000</td>\n",
       "      <td>19803.000000</td>\n",
       "    </tr>\n",
       "    <tr>\n",
       "      <th>mean</th>\n",
       "      <td>45.36465</td>\n",
       "      <td>1738.246050</td>\n",
       "      <td>0.500458</td>\n",
       "      <td>1107.829449</td>\n",
       "      <td>556.046951</td>\n",
       "      <td>551.950915</td>\n",
       "    </tr>\n",
       "    <tr>\n",
       "      <th>std</th>\n",
       "      <td>30.75359</td>\n",
       "      <td>1011.951046</td>\n",
       "      <td>0.500013</td>\n",
       "      <td>582.825242</td>\n",
       "      <td>405.955660</td>\n",
       "      <td>493.412849</td>\n",
       "    </tr>\n",
       "    <tr>\n",
       "      <th>min</th>\n",
       "      <td>0.00000</td>\n",
       "      <td>1.000000</td>\n",
       "      <td>0.000000</td>\n",
       "      <td>12.010000</td>\n",
       "      <td>7.210000</td>\n",
       "      <td>4.800000</td>\n",
       "    </tr>\n",
       "    <tr>\n",
       "      <th>25%</th>\n",
       "      <td>18.00000</td>\n",
       "      <td>857.750000</td>\n",
       "      <td>0.000000</td>\n",
       "      <td>575.270000</td>\n",
       "      <td>215.140000</td>\n",
       "      <td>133.780000</td>\n",
       "    </tr>\n",
       "    <tr>\n",
       "      <th>50%</th>\n",
       "      <td>44.00000</td>\n",
       "      <td>1736.000000</td>\n",
       "      <td>1.000000</td>\n",
       "      <td>1163.890000</td>\n",
       "      <td>507.580000</td>\n",
       "      <td>445.210000</td>\n",
       "    </tr>\n",
       "    <tr>\n",
       "      <th>75%</th>\n",
       "      <td>72.00000</td>\n",
       "      <td>2613.000000</td>\n",
       "      <td>1.000000</td>\n",
       "      <td>1635.300000</td>\n",
       "      <td>795.100000</td>\n",
       "      <td>830.240000</td>\n",
       "    </tr>\n",
       "    <tr>\n",
       "      <th>max</th>\n",
       "      <td>100.00000</td>\n",
       "      <td>5034.000000</td>\n",
       "      <td>1.000000</td>\n",
       "      <td>2091.470000</td>\n",
       "      <td>1759.850000</td>\n",
       "      <td>1702.550000</td>\n",
       "    </tr>\n",
       "  </tbody>\n",
       "</table>\n",
       "</div>"
      ],
      "text/plain": [
       "        product_id   customer_id  online_order    list_price  standard_cost  \\\n",
       "count  20000.00000  20000.000000  19640.000000  20000.000000   19803.000000   \n",
       "mean      45.36465   1738.246050      0.500458   1107.829449     556.046951   \n",
       "std       30.75359   1011.951046      0.500013    582.825242     405.955660   \n",
       "min        0.00000      1.000000      0.000000     12.010000       7.210000   \n",
       "25%       18.00000    857.750000      0.000000    575.270000     215.140000   \n",
       "50%       44.00000   1736.000000      1.000000   1163.890000     507.580000   \n",
       "75%       72.00000   2613.000000      1.000000   1635.300000     795.100000   \n",
       "max      100.00000   5034.000000      1.000000   2091.470000    1759.850000   \n",
       "\n",
       "             profit  \n",
       "count  19803.000000  \n",
       "mean     551.950915  \n",
       "std      493.412849  \n",
       "min        4.800000  \n",
       "25%      133.780000  \n",
       "50%      445.210000  \n",
       "75%      830.240000  \n",
       "max     1702.550000  "
      ]
     },
     "execution_count": 109,
     "metadata": {},
     "output_type": "execute_result"
    }
   ],
   "source": [
    "d2.describe()"
   ]
  },
  {
   "cell_type": "code",
   "execution_count": null,
   "metadata": {},
   "outputs": [],
   "source": [
    "#Filling the null values with mean or median"
   ]
  },
  {
   "cell_type": "code",
   "execution_count": 110,
   "metadata": {},
   "outputs": [],
   "source": [
    "d2['online_order'].fillna(d2['online_order'].mean(),inplace=True)"
   ]
  },
  {
   "cell_type": "code",
   "execution_count": 111,
   "metadata": {},
   "outputs": [],
   "source": [
    "\n",
    "d2['list_price'].fillna(d2['list_price'].median(),inplace=True)"
   ]
  },
  {
   "cell_type": "code",
   "execution_count": 112,
   "metadata": {},
   "outputs": [],
   "source": [
    "d2['standard_cost'].fillna(d2['standard_cost'].median(),inplace=True)"
   ]
  },
  {
   "cell_type": "code",
   "execution_count": 113,
   "metadata": {},
   "outputs": [],
   "source": [
    "d2['profit'].fillna(d2['profit'].median(),inplace=True)"
   ]
  },
  {
   "cell_type": "code",
   "execution_count": 114,
   "metadata": {},
   "outputs": [
    {
     "data": {
      "text/plain": [
       "product_id                   0\n",
       "customer_id                  0\n",
       "online_order                 0\n",
       "brand                      197\n",
       "product_line               197\n",
       "product_size               197\n",
       "list_price                   0\n",
       "standard_cost                0\n",
       "product_first_sold_date    197\n",
       "profit                       0\n",
       "dtype: int64"
      ]
     },
     "execution_count": 114,
     "metadata": {},
     "output_type": "execute_result"
    }
   ],
   "source": [
    "d2.isnull().sum()"
   ]
  },
  {
   "cell_type": "code",
   "execution_count": 115,
   "metadata": {},
   "outputs": [],
   "source": [
    "#percentage of null values\n",
    "miss=d2.isnull().sum()*100/len(d2)"
   ]
  },
  {
   "cell_type": "code",
   "execution_count": 116,
   "metadata": {},
   "outputs": [
    {
     "data": {
      "text/plain": [
       "product_id                 0.000\n",
       "customer_id                0.000\n",
       "online_order               0.000\n",
       "brand                      0.985\n",
       "product_line               0.985\n",
       "product_size               0.985\n",
       "list_price                 0.000\n",
       "standard_cost              0.000\n",
       "product_first_sold_date    0.985\n",
       "profit                     0.000\n",
       "dtype: float64"
      ]
     },
     "execution_count": 116,
     "metadata": {},
     "output_type": "execute_result"
    }
   ],
   "source": [
    "miss"
   ]
  },
  {
   "cell_type": "code",
   "execution_count": 117,
   "metadata": {},
   "outputs": [
    {
     "data": {
      "text/plain": [
       "array([4253, 3312, 3295, 3043, 2990, 2910], dtype=int64)"
      ]
     },
     "execution_count": 117,
     "metadata": {},
     "output_type": "execute_result"
    }
   ],
   "source": [
    "d2['brand'].value_counts().unique()"
   ]
  },
  {
   "cell_type": "code",
   "execution_count": 118,
   "metadata": {},
   "outputs": [],
   "source": [
    "d2['brand'].fillna(d2['brand'].value_counts().index[0],inplace=True)"
   ]
  },
  {
   "cell_type": "code",
   "execution_count": 119,
   "metadata": {},
   "outputs": [],
   "source": [
    "d2['product_line'].fillna(d2['product_line'].value_counts().index[0],inplace=True)"
   ]
  },
  {
   "cell_type": "code",
   "execution_count": 120,
   "metadata": {},
   "outputs": [],
   "source": [
    "d2['product_size'].fillna(d2['product_size'].value_counts().index[0],inplace=True)"
   ]
  },
  {
   "cell_type": "code",
   "execution_count": 121,
   "metadata": {},
   "outputs": [
    {
     "data": {
      "text/plain": [
       "product_id                   0\n",
       "customer_id                  0\n",
       "online_order                 0\n",
       "brand                        0\n",
       "product_line                 0\n",
       "product_size                 0\n",
       "list_price                   0\n",
       "standard_cost                0\n",
       "product_first_sold_date    197\n",
       "profit                       0\n",
       "dtype: int64"
      ]
     },
     "execution_count": 121,
     "metadata": {},
     "output_type": "execute_result"
    }
   ],
   "source": [
    "d2.isnull().sum()"
   ]
  },
  {
   "cell_type": "code",
   "execution_count": 122,
   "metadata": {},
   "outputs": [],
   "source": [
    "d2['product_first_sold_date'].dropna(how='all',inplace=True)"
   ]
  },
  {
   "cell_type": "code",
   "execution_count": 123,
   "metadata": {},
   "outputs": [
    {
     "data": {
      "text/plain": [
       "product_id                   0\n",
       "customer_id                  0\n",
       "online_order                 0\n",
       "brand                        0\n",
       "product_line                 0\n",
       "product_size                 0\n",
       "list_price                   0\n",
       "standard_cost                0\n",
       "product_first_sold_date    197\n",
       "profit                       0\n",
       "dtype: int64"
      ]
     },
     "execution_count": 123,
     "metadata": {},
     "output_type": "execute_result"
    }
   ],
   "source": [
    "d2.isnull().sum()"
   ]
  },
  {
   "cell_type": "code",
   "execution_count": 124,
   "metadata": {},
   "outputs": [
    {
     "data": {
      "text/html": [
       "<div>\n",
       "<style scoped>\n",
       "    .dataframe tbody tr th:only-of-type {\n",
       "        vertical-align: middle;\n",
       "    }\n",
       "\n",
       "    .dataframe tbody tr th {\n",
       "        vertical-align: top;\n",
       "    }\n",
       "\n",
       "    .dataframe thead th {\n",
       "        text-align: right;\n",
       "    }\n",
       "</style>\n",
       "<table border=\"1\" class=\"dataframe\">\n",
       "  <thead>\n",
       "    <tr style=\"text-align: right;\">\n",
       "      <th></th>\n",
       "      <th>product_id</th>\n",
       "      <th>customer_id</th>\n",
       "      <th>online_order</th>\n",
       "      <th>brand</th>\n",
       "      <th>product_line</th>\n",
       "      <th>product_size</th>\n",
       "      <th>list_price</th>\n",
       "      <th>standard_cost</th>\n",
       "      <th>product_first_sold_date</th>\n",
       "      <th>profit</th>\n",
       "    </tr>\n",
       "  </thead>\n",
       "  <tbody>\n",
       "    <tr>\n",
       "      <th>0</th>\n",
       "      <td>2</td>\n",
       "      <td>2950</td>\n",
       "      <td>0.0</td>\n",
       "      <td>Solex</td>\n",
       "      <td>Standard</td>\n",
       "      <td>medium</td>\n",
       "      <td>71.49</td>\n",
       "      <td>53.62</td>\n",
       "      <td>2012-12-02</td>\n",
       "      <td>17.87</td>\n",
       "    </tr>\n",
       "    <tr>\n",
       "      <th>1</th>\n",
       "      <td>3</td>\n",
       "      <td>3120</td>\n",
       "      <td>1.0</td>\n",
       "      <td>Trek Bicycles</td>\n",
       "      <td>Standard</td>\n",
       "      <td>large</td>\n",
       "      <td>2091.47</td>\n",
       "      <td>388.92</td>\n",
       "      <td>2014-03-03</td>\n",
       "      <td>1702.55</td>\n",
       "    </tr>\n",
       "    <tr>\n",
       "      <th>2</th>\n",
       "      <td>37</td>\n",
       "      <td>402</td>\n",
       "      <td>0.0</td>\n",
       "      <td>OHM Cycles</td>\n",
       "      <td>Standard</td>\n",
       "      <td>medium</td>\n",
       "      <td>1793.43</td>\n",
       "      <td>248.82</td>\n",
       "      <td>1999-07-20</td>\n",
       "      <td>1544.61</td>\n",
       "    </tr>\n",
       "    <tr>\n",
       "      <th>3</th>\n",
       "      <td>88</td>\n",
       "      <td>3135</td>\n",
       "      <td>0.0</td>\n",
       "      <td>Norco Bicycles</td>\n",
       "      <td>Standard</td>\n",
       "      <td>medium</td>\n",
       "      <td>1198.46</td>\n",
       "      <td>381.10</td>\n",
       "      <td>1998-12-16</td>\n",
       "      <td>817.36</td>\n",
       "    </tr>\n",
       "    <tr>\n",
       "      <th>4</th>\n",
       "      <td>78</td>\n",
       "      <td>787</td>\n",
       "      <td>1.0</td>\n",
       "      <td>Giant Bicycles</td>\n",
       "      <td>Standard</td>\n",
       "      <td>large</td>\n",
       "      <td>1765.30</td>\n",
       "      <td>709.48</td>\n",
       "      <td>2015-08-10</td>\n",
       "      <td>1055.82</td>\n",
       "    </tr>\n",
       "    <tr>\n",
       "      <th>...</th>\n",
       "      <td>...</td>\n",
       "      <td>...</td>\n",
       "      <td>...</td>\n",
       "      <td>...</td>\n",
       "      <td>...</td>\n",
       "      <td>...</td>\n",
       "      <td>...</td>\n",
       "      <td>...</td>\n",
       "      <td>...</td>\n",
       "      <td>...</td>\n",
       "    </tr>\n",
       "    <tr>\n",
       "      <th>19995</th>\n",
       "      <td>51</td>\n",
       "      <td>1018</td>\n",
       "      <td>1.0</td>\n",
       "      <td>OHM Cycles</td>\n",
       "      <td>Standard</td>\n",
       "      <td>medium</td>\n",
       "      <td>2005.66</td>\n",
       "      <td>1203.40</td>\n",
       "      <td>2003-07-21</td>\n",
       "      <td>802.26</td>\n",
       "    </tr>\n",
       "    <tr>\n",
       "      <th>19996</th>\n",
       "      <td>41</td>\n",
       "      <td>127</td>\n",
       "      <td>1.0</td>\n",
       "      <td>Solex</td>\n",
       "      <td>Road</td>\n",
       "      <td>medium</td>\n",
       "      <td>416.98</td>\n",
       "      <td>312.74</td>\n",
       "      <td>1997-05-10</td>\n",
       "      <td>104.24</td>\n",
       "    </tr>\n",
       "    <tr>\n",
       "      <th>19997</th>\n",
       "      <td>87</td>\n",
       "      <td>2284</td>\n",
       "      <td>1.0</td>\n",
       "      <td>OHM Cycles</td>\n",
       "      <td>Standard</td>\n",
       "      <td>medium</td>\n",
       "      <td>1636.90</td>\n",
       "      <td>44.71</td>\n",
       "      <td>2010-08-20</td>\n",
       "      <td>1592.19</td>\n",
       "    </tr>\n",
       "    <tr>\n",
       "      <th>19998</th>\n",
       "      <td>6</td>\n",
       "      <td>2764</td>\n",
       "      <td>0.0</td>\n",
       "      <td>OHM Cycles</td>\n",
       "      <td>Standard</td>\n",
       "      <td>medium</td>\n",
       "      <td>227.88</td>\n",
       "      <td>136.73</td>\n",
       "      <td>2004-08-17</td>\n",
       "      <td>91.15</td>\n",
       "    </tr>\n",
       "    <tr>\n",
       "      <th>19999</th>\n",
       "      <td>11</td>\n",
       "      <td>1144</td>\n",
       "      <td>1.0</td>\n",
       "      <td>Trek Bicycles</td>\n",
       "      <td>Standard</td>\n",
       "      <td>small</td>\n",
       "      <td>1775.81</td>\n",
       "      <td>1580.47</td>\n",
       "      <td>1999-06-23</td>\n",
       "      <td>195.34</td>\n",
       "    </tr>\n",
       "  </tbody>\n",
       "</table>\n",
       "<p>20000 rows × 10 columns</p>\n",
       "</div>"
      ],
      "text/plain": [
       "       product_id  customer_id  online_order           brand product_line  \\\n",
       "0               2         2950           0.0           Solex     Standard   \n",
       "1               3         3120           1.0   Trek Bicycles     Standard   \n",
       "2              37          402           0.0      OHM Cycles     Standard   \n",
       "3              88         3135           0.0  Norco Bicycles     Standard   \n",
       "4              78          787           1.0  Giant Bicycles     Standard   \n",
       "...           ...          ...           ...             ...          ...   \n",
       "19995          51         1018           1.0      OHM Cycles     Standard   \n",
       "19996          41          127           1.0           Solex         Road   \n",
       "19997          87         2284           1.0      OHM Cycles     Standard   \n",
       "19998           6         2764           0.0      OHM Cycles     Standard   \n",
       "19999          11         1144           1.0   Trek Bicycles     Standard   \n",
       "\n",
       "      product_size  list_price  standard_cost product_first_sold_date   profit  \n",
       "0           medium       71.49          53.62              2012-12-02    17.87  \n",
       "1            large     2091.47         388.92              2014-03-03  1702.55  \n",
       "2           medium     1793.43         248.82              1999-07-20  1544.61  \n",
       "3           medium     1198.46         381.10              1998-12-16   817.36  \n",
       "4            large     1765.30         709.48              2015-08-10  1055.82  \n",
       "...            ...         ...            ...                     ...      ...  \n",
       "19995       medium     2005.66        1203.40              2003-07-21   802.26  \n",
       "19996       medium      416.98         312.74              1997-05-10   104.24  \n",
       "19997       medium     1636.90          44.71              2010-08-20  1592.19  \n",
       "19998       medium      227.88         136.73              2004-08-17    91.15  \n",
       "19999        small     1775.81        1580.47              1999-06-23   195.34  \n",
       "\n",
       "[20000 rows x 10 columns]"
      ]
     },
     "execution_count": 124,
     "metadata": {},
     "output_type": "execute_result"
    }
   ],
   "source": [
    "d2"
   ]
  },
  {
   "cell_type": "code",
   "execution_count": 125,
   "metadata": {},
   "outputs": [],
   "source": [
    "#extracting year from sold date.\n",
    "d2['year']=d2['product_first_sold_date'].dt.year"
   ]
  },
  {
   "cell_type": "code",
   "execution_count": 126,
   "metadata": {},
   "outputs": [
    {
     "data": {
      "text/plain": [
       "<matplotlib.axes._subplots.AxesSubplot at 0xaa22b1edc0>"
      ]
     },
     "execution_count": 126,
     "metadata": {},
     "output_type": "execute_result"
    },
    {
     "data": {
      "image/png": "[encoded data removed]",
      "text/plain": [
       "<Figure size 432x288 with 1 Axes>"
      ]
     },
     "metadata": {
      "needs_background": "light"
     },
     "output_type": "display_data"
    }
   ],
   "source": [
    "#graph between brand and profit\n",
    "d2.groupby('brand').agg('sum')['profit'].plot(kind='bar')"
   ]
  },
  {
   "cell_type": "code",
   "execution_count": 127,
   "metadata": {},
   "outputs": [
    {
     "data": {
      "text/plain": [
       "<matplotlib.axes._subplots.AxesSubplot at 0xaa22b73430>"
      ]
     },
     "execution_count": 127,
     "metadata": {},
     "output_type": "execute_result"
    },
    {
     "data": {
      "image/png": "[encoded data removed]",
      "text/plain": [
       "<Figure size 1080x576 with 1 Axes>"
      ]
     },
     "metadata": {
      "needs_background": "light"
     },
     "output_type": "display_data"
    }
   ],
   "source": [
    "#Yearly profit\n",
    "d2.groupby('year').agg('sum')['profit'].plot(kind='barh',figsize=(15,8))"
   ]
  },
  {
   "cell_type": "code",
   "execution_count": 128,
   "metadata": {},
   "outputs": [
    {
     "data": {
      "text/plain": [
       "<matplotlib.axes._subplots.AxesSubplot at 0xaa22c0ac10>"
      ]
     },
     "execution_count": 128,
     "metadata": {},
     "output_type": "execute_result"
    },
    {
     "data": {
      "image/png": "[encoded data removed]",
      "text/plain": [
       "<Figure size 432x288 with 1 Axes>"
      ]
     },
     "metadata": {
      "needs_background": "light"
     },
     "output_type": "display_data"
    }
   ],
   "source": [
    "#brand VS list price\n",
    "d2.groupby('brand').agg('sum')['list_price'].plot(kind='bar')"
   ]
  },
  {
   "cell_type": "code",
   "execution_count": 129,
   "metadata": {},
   "outputs": [
    {
     "data": {
      "text/plain": [
       "<matplotlib.axes._subplots.AxesSubplot at 0xaa22c00be0>"
      ]
     },
     "execution_count": 129,
     "metadata": {},
     "output_type": "execute_result"
    },
    {
     "data": {
      "image/png": "[encoded data removed]",
      "text/plain": [
       "<Figure size 432x288 with 1 Axes>"
      ]
     },
     "metadata": {
      "needs_background": "light"
     },
     "output_type": "display_data"
    }
   ],
   "source": [
    "#product size vs profit\n",
    "d2.groupby('product_size').agg('sum')['profit'].plot(kind='bar')"
   ]
  },
  {
   "cell_type": "markdown",
   "metadata": {},
   "source": [
    "# CustomerAddress\n"
   ]
  },
  {
   "cell_type": "code",
   "execution_count": 130,
   "metadata": {},
   "outputs": [
    {
     "data": {
      "text/html": [
       "<div>\n",
       "<style scoped>\n",
       "    .dataframe tbody tr th:only-of-type {\n",
       "        vertical-align: middle;\n",
       "    }\n",
       "\n",
       "    .dataframe tbody tr th {\n",
       "        vertical-align: top;\n",
       "    }\n",
       "\n",
       "    .dataframe thead th {\n",
       "        text-align: right;\n",
       "    }\n",
       "</style>\n",
       "<table border=\"1\" class=\"dataframe\">\n",
       "  <thead>\n",
       "    <tr style=\"text-align: right;\">\n",
       "      <th></th>\n",
       "      <th>customer_id</th>\n",
       "      <th>address</th>\n",
       "      <th>postcode</th>\n",
       "      <th>state</th>\n",
       "      <th>country</th>\n",
       "      <th>property_valuation</th>\n",
       "    </tr>\n",
       "  </thead>\n",
       "  <tbody>\n",
       "    <tr>\n",
       "      <th>0</th>\n",
       "      <td>1</td>\n",
       "      <td>060 Morning Avenue</td>\n",
       "      <td>2016</td>\n",
       "      <td>New South Wales</td>\n",
       "      <td>Australia</td>\n",
       "      <td>10</td>\n",
       "    </tr>\n",
       "    <tr>\n",
       "      <th>1</th>\n",
       "      <td>2</td>\n",
       "      <td>6 Meadow Vale Court</td>\n",
       "      <td>2153</td>\n",
       "      <td>New South Wales</td>\n",
       "      <td>Australia</td>\n",
       "      <td>10</td>\n",
       "    </tr>\n",
       "    <tr>\n",
       "      <th>2</th>\n",
       "      <td>4</td>\n",
       "      <td>0 Holy Cross Court</td>\n",
       "      <td>4211</td>\n",
       "      <td>QLD</td>\n",
       "      <td>Australia</td>\n",
       "      <td>9</td>\n",
       "    </tr>\n",
       "    <tr>\n",
       "      <th>3</th>\n",
       "      <td>5</td>\n",
       "      <td>17979 Del Mar Point</td>\n",
       "      <td>2448</td>\n",
       "      <td>New South Wales</td>\n",
       "      <td>Australia</td>\n",
       "      <td>4</td>\n",
       "    </tr>\n",
       "    <tr>\n",
       "      <th>4</th>\n",
       "      <td>6</td>\n",
       "      <td>9 Oakridge Court</td>\n",
       "      <td>3216</td>\n",
       "      <td>VIC</td>\n",
       "      <td>Australia</td>\n",
       "      <td>9</td>\n",
       "    </tr>\n",
       "    <tr>\n",
       "      <th>...</th>\n",
       "      <td>...</td>\n",
       "      <td>...</td>\n",
       "      <td>...</td>\n",
       "      <td>...</td>\n",
       "      <td>...</td>\n",
       "      <td>...</td>\n",
       "    </tr>\n",
       "    <tr>\n",
       "      <th>3994</th>\n",
       "      <td>3999</td>\n",
       "      <td>1482 Hauk Trail</td>\n",
       "      <td>3064</td>\n",
       "      <td>VIC</td>\n",
       "      <td>Australia</td>\n",
       "      <td>3</td>\n",
       "    </tr>\n",
       "    <tr>\n",
       "      <th>3995</th>\n",
       "      <td>4000</td>\n",
       "      <td>57042 Village Green Point</td>\n",
       "      <td>4511</td>\n",
       "      <td>QLD</td>\n",
       "      <td>Australia</td>\n",
       "      <td>6</td>\n",
       "    </tr>\n",
       "    <tr>\n",
       "      <th>3996</th>\n",
       "      <td>4001</td>\n",
       "      <td>87 Crescent Oaks Alley</td>\n",
       "      <td>2756</td>\n",
       "      <td>NSW</td>\n",
       "      <td>Australia</td>\n",
       "      <td>10</td>\n",
       "    </tr>\n",
       "    <tr>\n",
       "      <th>3997</th>\n",
       "      <td>4002</td>\n",
       "      <td>8194 Lien Street</td>\n",
       "      <td>4032</td>\n",
       "      <td>QLD</td>\n",
       "      <td>Australia</td>\n",
       "      <td>7</td>\n",
       "    </tr>\n",
       "    <tr>\n",
       "      <th>3998</th>\n",
       "      <td>4003</td>\n",
       "      <td>320 Acker Drive</td>\n",
       "      <td>2251</td>\n",
       "      <td>NSW</td>\n",
       "      <td>Australia</td>\n",
       "      <td>7</td>\n",
       "    </tr>\n",
       "  </tbody>\n",
       "</table>\n",
       "<p>3999 rows × 6 columns</p>\n",
       "</div>"
      ],
      "text/plain": [
       "      customer_id                    address  postcode            state  \\\n",
       "0               1         060 Morning Avenue      2016  New South Wales   \n",
       "1               2        6 Meadow Vale Court      2153  New South Wales   \n",
       "2               4         0 Holy Cross Court      4211              QLD   \n",
       "3               5        17979 Del Mar Point      2448  New South Wales   \n",
       "4               6           9 Oakridge Court      3216              VIC   \n",
       "...           ...                        ...       ...              ...   \n",
       "3994         3999            1482 Hauk Trail      3064              VIC   \n",
       "3995         4000  57042 Village Green Point      4511              QLD   \n",
       "3996         4001     87 Crescent Oaks Alley      2756              NSW   \n",
       "3997         4002           8194 Lien Street      4032              QLD   \n",
       "3998         4003            320 Acker Drive      2251              NSW   \n",
       "\n",
       "        country  property_valuation  \n",
       "0     Australia                  10  \n",
       "1     Australia                  10  \n",
       "2     Australia                   9  \n",
       "3     Australia                   4  \n",
       "4     Australia                   9  \n",
       "...         ...                 ...  \n",
       "3994  Australia                   3  \n",
       "3995  Australia                   6  \n",
       "3996  Australia                  10  \n",
       "3997  Australia                   7  \n",
       "3998  Australia                   7  \n",
       "\n",
       "[3999 rows x 6 columns]"
      ]
     },
     "execution_count": 130,
     "metadata": {},
     "output_type": "execute_result"
    }
   ],
   "source": [
    "d3"
   ]
  },
  {
   "cell_type": "code",
   "execution_count": 131,
   "metadata": {},
   "outputs": [
    {
     "data": {
      "text/plain": [
       "True"
      ]
     },
     "execution_count": 131,
     "metadata": {},
     "output_type": "execute_result"
    }
   ],
   "source": [
    "d3['customer_id'].is_unique"
   ]
  },
  {
   "cell_type": "code",
   "execution_count": 132,
   "metadata": {},
   "outputs": [
    {
     "data": {
      "text/plain": [
       "array(['New South Wales', 'QLD', 'VIC', 'NSW', 'Victoria'], dtype=object)"
      ]
     },
     "execution_count": 132,
     "metadata": {},
     "output_type": "execute_result"
    }
   ],
   "source": [
    "d3['state'].unique()"
   ]
  },
  {
   "cell_type": "code",
   "execution_count": 133,
   "metadata": {},
   "outputs": [],
   "source": [
    "#replacing VIC,NSW,QLD to Victoria,New South Wales and Queensland.\n",
    "d3['state'].replace(['VIC','NSW','QLD'],['Victoria','New South Wales','Queensland'],inplace=True)\n",
    "\n"
   ]
  },
  {
   "cell_type": "code",
   "execution_count": 134,
   "metadata": {},
   "outputs": [
    {
     "data": {
      "text/plain": [
       "array(['New South Wales', 'Queensland', 'Victoria'], dtype=object)"
      ]
     },
     "execution_count": 134,
     "metadata": {},
     "output_type": "execute_result"
    }
   ],
   "source": [
    "d3['state'].unique()"
   ]
  },
  {
   "cell_type": "markdown",
   "metadata": {},
   "source": [
    "# Merging datasets"
   ]
  },
  {
   "cell_type": "code",
   "execution_count": 135,
   "metadata": {},
   "outputs": [],
   "source": [
    "#merging datasets using left merge\n",
    "d4=pd.merge(df,d3,how='left',on=['customer_id','customer_id'])"
   ]
  },
  {
   "cell_type": "markdown",
   "metadata": {},
   "source": [
    "d4=df.append(d2)"
   ]
  },
  {
   "cell_type": "code",
   "execution_count": 136,
   "metadata": {},
   "outputs": [
    {
     "data": {
      "text/plain": [
       "customer_id                              0\n",
       "first_name                               0\n",
       "gender                                   0\n",
       "past_3_years_bike_related_purchases      0\n",
       "job_industry_category                  656\n",
       "wealth_segment                           0\n",
       "deceased_indicator                       0\n",
       "owns_car                                 0\n",
       "tenure                                   0\n",
       "Age                                      0\n",
       "age_bins                                83\n",
       "address                                  4\n",
       "postcode                                 4\n",
       "state                                    4\n",
       "country                                  4\n",
       "property_valuation                       4\n",
       "dtype: int64"
      ]
     },
     "execution_count": 136,
     "metadata": {},
     "output_type": "execute_result"
    }
   ],
   "source": [
    "#finding null values\n",
    "d4.isnull().sum()"
   ]
  },
  {
   "cell_type": "code",
   "execution_count": 137,
   "metadata": {},
   "outputs": [
    {
     "data": {
      "text/html": [
       "<div>\n",
       "<style scoped>\n",
       "    .dataframe tbody tr th:only-of-type {\n",
       "        vertical-align: middle;\n",
       "    }\n",
       "\n",
       "    .dataframe tbody tr th {\n",
       "        vertical-align: top;\n",
       "    }\n",
       "\n",
       "    .dataframe thead th {\n",
       "        text-align: right;\n",
       "    }\n",
       "</style>\n",
       "<table border=\"1\" class=\"dataframe\">\n",
       "  <thead>\n",
       "    <tr style=\"text-align: right;\">\n",
       "      <th></th>\n",
       "      <th>customer_id</th>\n",
       "      <th>first_name</th>\n",
       "      <th>gender</th>\n",
       "      <th>past_3_years_bike_related_purchases</th>\n",
       "      <th>job_industry_category</th>\n",
       "      <th>wealth_segment</th>\n",
       "      <th>deceased_indicator</th>\n",
       "      <th>owns_car</th>\n",
       "      <th>tenure</th>\n",
       "      <th>Age</th>\n",
       "      <th>age_bins</th>\n",
       "      <th>address</th>\n",
       "      <th>postcode</th>\n",
       "      <th>state</th>\n",
       "      <th>country</th>\n",
       "      <th>property_valuation</th>\n",
       "    </tr>\n",
       "  </thead>\n",
       "  <tbody>\n",
       "    <tr>\n",
       "      <th>0</th>\n",
       "      <td>5</td>\n",
       "      <td>Sheila-kathryn</td>\n",
       "      <td>Female</td>\n",
       "      <td>3997.0</td>\n",
       "      <td>NaN</td>\n",
       "      <td>Affluent Customer</td>\n",
       "      <td>N</td>\n",
       "      <td>Yes</td>\n",
       "      <td>8.0</td>\n",
       "      <td>43.0</td>\n",
       "      <td>(40.0, 60.0]</td>\n",
       "      <td>17979 Del Mar Point</td>\n",
       "      <td>2448.0</td>\n",
       "      <td>New South Wales</td>\n",
       "      <td>Australia</td>\n",
       "      <td>4.0</td>\n",
       "    </tr>\n",
       "    <tr>\n",
       "      <th>1</th>\n",
       "      <td>1098</td>\n",
       "      <td>Maure</td>\n",
       "      <td>Female</td>\n",
       "      <td>99.0</td>\n",
       "      <td>Financial Services</td>\n",
       "      <td>Mass Customer</td>\n",
       "      <td>N</td>\n",
       "      <td>Yes</td>\n",
       "      <td>12.0</td>\n",
       "      <td>31.0</td>\n",
       "      <td>(20.0, 40.0]</td>\n",
       "      <td>9419 Homewood Way</td>\n",
       "      <td>2160.0</td>\n",
       "      <td>New South Wales</td>\n",
       "      <td>Australia</td>\n",
       "      <td>9.0</td>\n",
       "    </tr>\n",
       "    <tr>\n",
       "      <th>2</th>\n",
       "      <td>2332</td>\n",
       "      <td>Jeff</td>\n",
       "      <td>Male</td>\n",
       "      <td>99.0</td>\n",
       "      <td>Property</td>\n",
       "      <td>High Net Worth</td>\n",
       "      <td>N</td>\n",
       "      <td>Yes</td>\n",
       "      <td>10.0</td>\n",
       "      <td>43.0</td>\n",
       "      <td>(40.0, 60.0]</td>\n",
       "      <td>034 Eagan Avenue</td>\n",
       "      <td>2560.0</td>\n",
       "      <td>New South Wales</td>\n",
       "      <td>Australia</td>\n",
       "      <td>6.0</td>\n",
       "    </tr>\n",
       "    <tr>\n",
       "      <th>3</th>\n",
       "      <td>1452</td>\n",
       "      <td>Zachery</td>\n",
       "      <td>Male</td>\n",
       "      <td>99.0</td>\n",
       "      <td>Retail</td>\n",
       "      <td>Mass Customer</td>\n",
       "      <td>N</td>\n",
       "      <td>No</td>\n",
       "      <td>20.0</td>\n",
       "      <td>65.0</td>\n",
       "      <td>(60.0, 90.0]</td>\n",
       "      <td>913 Londonderry Trail</td>\n",
       "      <td>2567.0</td>\n",
       "      <td>New South Wales</td>\n",
       "      <td>Australia</td>\n",
       "      <td>8.0</td>\n",
       "    </tr>\n",
       "    <tr>\n",
       "      <th>4</th>\n",
       "      <td>1457</td>\n",
       "      <td>Leonore</td>\n",
       "      <td>Female</td>\n",
       "      <td>99.0</td>\n",
       "      <td>NaN</td>\n",
       "      <td>Affluent Customer</td>\n",
       "      <td>N</td>\n",
       "      <td>Yes</td>\n",
       "      <td>12.0</td>\n",
       "      <td>42.0</td>\n",
       "      <td>(40.0, 60.0]</td>\n",
       "      <td>975 Melby Street</td>\n",
       "      <td>2564.0</td>\n",
       "      <td>New South Wales</td>\n",
       "      <td>Australia</td>\n",
       "      <td>8.0</td>\n",
       "    </tr>\n",
       "    <tr>\n",
       "      <th>...</th>\n",
       "      <td>...</td>\n",
       "      <td>...</td>\n",
       "      <td>...</td>\n",
       "      <td>...</td>\n",
       "      <td>...</td>\n",
       "      <td>...</td>\n",
       "      <td>...</td>\n",
       "      <td>...</td>\n",
       "      <td>...</td>\n",
       "      <td>...</td>\n",
       "      <td>...</td>\n",
       "      <td>...</td>\n",
       "      <td>...</td>\n",
       "      <td>...</td>\n",
       "      <td>...</td>\n",
       "      <td>...</td>\n",
       "    </tr>\n",
       "    <tr>\n",
       "      <th>3995</th>\n",
       "      <td>3976</td>\n",
       "      <td>Gretel</td>\n",
       "      <td>Female</td>\n",
       "      <td>0.0</td>\n",
       "      <td>NaN</td>\n",
       "      <td>Affluent Customer</td>\n",
       "      <td>N</td>\n",
       "      <td>Yes</td>\n",
       "      <td>13.0</td>\n",
       "      <td>63.0</td>\n",
       "      <td>(60.0, 90.0]</td>\n",
       "      <td>07 Morning Court</td>\n",
       "      <td>3805.0</td>\n",
       "      <td>Victoria</td>\n",
       "      <td>Australia</td>\n",
       "      <td>7.0</td>\n",
       "    </tr>\n",
       "    <tr>\n",
       "      <th>3996</th>\n",
       "      <td>3549</td>\n",
       "      <td>Jodee</td>\n",
       "      <td>Female</td>\n",
       "      <td>0.0</td>\n",
       "      <td>Retail</td>\n",
       "      <td>Mass Customer</td>\n",
       "      <td>N</td>\n",
       "      <td>No</td>\n",
       "      <td>7.0</td>\n",
       "      <td>54.0</td>\n",
       "      <td>(40.0, 60.0]</td>\n",
       "      <td>360 Green Ridge Junction</td>\n",
       "      <td>2508.0</td>\n",
       "      <td>New South Wales</td>\n",
       "      <td>Australia</td>\n",
       "      <td>9.0</td>\n",
       "    </tr>\n",
       "    <tr>\n",
       "      <th>3997</th>\n",
       "      <td>1046</td>\n",
       "      <td>Shir</td>\n",
       "      <td>Female</td>\n",
       "      <td>0.0</td>\n",
       "      <td>NaN</td>\n",
       "      <td>Affluent Customer</td>\n",
       "      <td>N</td>\n",
       "      <td>No</td>\n",
       "      <td>11.0</td>\n",
       "      <td>65.0</td>\n",
       "      <td>(60.0, 90.0]</td>\n",
       "      <td>4408 Haas Way</td>\n",
       "      <td>2171.0</td>\n",
       "      <td>New South Wales</td>\n",
       "      <td>Australia</td>\n",
       "      <td>9.0</td>\n",
       "    </tr>\n",
       "    <tr>\n",
       "      <th>3998</th>\n",
       "      <td>1529</td>\n",
       "      <td>Tansy</td>\n",
       "      <td>Female</td>\n",
       "      <td>0.0</td>\n",
       "      <td>Financial Services</td>\n",
       "      <td>High Net Worth</td>\n",
       "      <td>N</td>\n",
       "      <td>Yes</td>\n",
       "      <td>5.0</td>\n",
       "      <td>34.0</td>\n",
       "      <td>(20.0, 40.0]</td>\n",
       "      <td>6750 Truax Trail</td>\n",
       "      <td>2145.0</td>\n",
       "      <td>New South Wales</td>\n",
       "      <td>Australia</td>\n",
       "      <td>8.0</td>\n",
       "    </tr>\n",
       "    <tr>\n",
       "      <th>3999</th>\n",
       "      <td>1354</td>\n",
       "      <td>Karee</td>\n",
       "      <td>Female</td>\n",
       "      <td>0.0</td>\n",
       "      <td>Financial Services</td>\n",
       "      <td>Affluent Customer</td>\n",
       "      <td>N</td>\n",
       "      <td>No</td>\n",
       "      <td>2.0</td>\n",
       "      <td>20.0</td>\n",
       "      <td>NaN</td>\n",
       "      <td>0 Ramsey Place</td>\n",
       "      <td>3444.0</td>\n",
       "      <td>Victoria</td>\n",
       "      <td>Australia</td>\n",
       "      <td>4.0</td>\n",
       "    </tr>\n",
       "  </tbody>\n",
       "</table>\n",
       "<p>4000 rows × 16 columns</p>\n",
       "</div>"
      ],
      "text/plain": [
       "      customer_id      first_name  gender  \\\n",
       "0               5  Sheila-kathryn  Female   \n",
       "1            1098           Maure  Female   \n",
       "2            2332            Jeff    Male   \n",
       "3            1452         Zachery    Male   \n",
       "4            1457         Leonore  Female   \n",
       "...           ...             ...     ...   \n",
       "3995         3976          Gretel  Female   \n",
       "3996         3549           Jodee  Female   \n",
       "3997         1046            Shir  Female   \n",
       "3998         1529           Tansy  Female   \n",
       "3999         1354           Karee  Female   \n",
       "\n",
       "      past_3_years_bike_related_purchases job_industry_category  \\\n",
       "0                                  3997.0                   NaN   \n",
       "1                                    99.0    Financial Services   \n",
       "2                                    99.0              Property   \n",
       "3                                    99.0                Retail   \n",
       "4                                    99.0                   NaN   \n",
       "...                                   ...                   ...   \n",
       "3995                                  0.0                   NaN   \n",
       "3996                                  0.0                Retail   \n",
       "3997                                  0.0                   NaN   \n",
       "3998                                  0.0    Financial Services   \n",
       "3999                                  0.0    Financial Services   \n",
       "\n",
       "         wealth_segment deceased_indicator owns_car  tenure   Age  \\\n",
       "0     Affluent Customer                  N      Yes     8.0  43.0   \n",
       "1         Mass Customer                  N      Yes    12.0  31.0   \n",
       "2        High Net Worth                  N      Yes    10.0  43.0   \n",
       "3         Mass Customer                  N       No    20.0  65.0   \n",
       "4     Affluent Customer                  N      Yes    12.0  42.0   \n",
       "...                 ...                ...      ...     ...   ...   \n",
       "3995  Affluent Customer                  N      Yes    13.0  63.0   \n",
       "3996      Mass Customer                  N       No     7.0  54.0   \n",
       "3997  Affluent Customer                  N       No    11.0  65.0   \n",
       "3998     High Net Worth                  N      Yes     5.0  34.0   \n",
       "3999  Affluent Customer                  N       No     2.0  20.0   \n",
       "\n",
       "          age_bins                   address  postcode            state  \\\n",
       "0     (40.0, 60.0]       17979 Del Mar Point    2448.0  New South Wales   \n",
       "1     (20.0, 40.0]         9419 Homewood Way    2160.0  New South Wales   \n",
       "2     (40.0, 60.0]          034 Eagan Avenue    2560.0  New South Wales   \n",
       "3     (60.0, 90.0]     913 Londonderry Trail    2567.0  New South Wales   \n",
       "4     (40.0, 60.0]          975 Melby Street    2564.0  New South Wales   \n",
       "...            ...                       ...       ...              ...   \n",
       "3995  (60.0, 90.0]          07 Morning Court    3805.0         Victoria   \n",
       "3996  (40.0, 60.0]  360 Green Ridge Junction    2508.0  New South Wales   \n",
       "3997  (60.0, 90.0]             4408 Haas Way    2171.0  New South Wales   \n",
       "3998  (20.0, 40.0]          6750 Truax Trail    2145.0  New South Wales   \n",
       "3999           NaN            0 Ramsey Place    3444.0         Victoria   \n",
       "\n",
       "        country  property_valuation  \n",
       "0     Australia                 4.0  \n",
       "1     Australia                 9.0  \n",
       "2     Australia                 6.0  \n",
       "3     Australia                 8.0  \n",
       "4     Australia                 8.0  \n",
       "...         ...                 ...  \n",
       "3995  Australia                 7.0  \n",
       "3996  Australia                 9.0  \n",
       "3997  Australia                 9.0  \n",
       "3998  Australia                 8.0  \n",
       "3999  Australia                 4.0  \n",
       "\n",
       "[4000 rows x 16 columns]"
      ]
     },
     "execution_count": 137,
     "metadata": {},
     "output_type": "execute_result"
    }
   ],
   "source": [
    "d4"
   ]
  },
  {
   "cell_type": "code",
   "execution_count": 138,
   "metadata": {},
   "outputs": [
    {
     "name": "stdout",
     "output_type": "stream",
     "text": [
      "<class 'pandas.core.frame.DataFrame'>\n",
      "Int64Index: 4000 entries, 0 to 3999\n",
      "Data columns (total 16 columns):\n",
      " #   Column                               Non-Null Count  Dtype   \n",
      "---  ------                               --------------  -----   \n",
      " 0   customer_id                          4000 non-null   int64   \n",
      " 1   first_name                           4000 non-null   object  \n",
      " 2   gender                               4000 non-null   object  \n",
      " 3   past_3_years_bike_related_purchases  4000 non-null   float64 \n",
      " 4   job_industry_category                3344 non-null   object  \n",
      " 5   wealth_segment                       4000 non-null   object  \n",
      " 6   deceased_indicator                   4000 non-null   object  \n",
      " 7   owns_car                             4000 non-null   object  \n",
      " 8   tenure                               4000 non-null   float64 \n",
      " 9   Age                                  4000 non-null   float64 \n",
      " 10  age_bins                             3917 non-null   category\n",
      " 11  address                              3996 non-null   object  \n",
      " 12  postcode                             3996 non-null   float64 \n",
      " 13  state                                3996 non-null   object  \n",
      " 14  country                              3996 non-null   object  \n",
      " 15  property_valuation                   3996 non-null   float64 \n",
      "dtypes: category(1), float64(5), int64(1), object(9)\n",
      "memory usage: 504.0+ KB\n"
     ]
    }
   ],
   "source": [
    "d4.info()"
   ]
  },
  {
   "cell_type": "code",
   "execution_count": 139,
   "metadata": {},
   "outputs": [],
   "source": [
    "#sorting according to the past 3 years Bikes purchase\n",
    "d4.sort_values(by=['past_3_years_bike_related_purchases'],inplace=True,ascending=False)"
   ]
  },
  {
   "cell_type": "code",
   "execution_count": 140,
   "metadata": {},
   "outputs": [],
   "source": [
    "#extracting first 1000 entries as they are our target customers\n",
    "d5=d4.head(1000)\n"
   ]
  },
  {
   "cell_type": "code",
   "execution_count": 141,
   "metadata": {},
   "outputs": [
    {
     "name": "stdout",
     "output_type": "stream",
     "text": [
      "Index(['first_name', 'gender', 'job_industry_category', 'wealth_segment',\n",
      "       'deceased_indicator', 'owns_car', 'address', 'state', 'country'],\n",
      "      dtype='object')\n"
     ]
    }
   ],
   "source": [
    "col=d5.select_dtypes([np.object]).columns\n",
    "print(col)"
   ]
  },
  {
   "cell_type": "code",
   "execution_count": 142,
   "metadata": {},
   "outputs": [
    {
     "data": {
      "text/html": [
       "<div>\n",
       "<style scoped>\n",
       "    .dataframe tbody tr th:only-of-type {\n",
       "        vertical-align: middle;\n",
       "    }\n",
       "\n",
       "    .dataframe tbody tr th {\n",
       "        vertical-align: top;\n",
       "    }\n",
       "\n",
       "    .dataframe thead th {\n",
       "        text-align: right;\n",
       "    }\n",
       "</style>\n",
       "<table border=\"1\" class=\"dataframe\">\n",
       "  <thead>\n",
       "    <tr style=\"text-align: right;\">\n",
       "      <th></th>\n",
       "      <th>customer_id</th>\n",
       "      <th>first_name</th>\n",
       "      <th>gender</th>\n",
       "      <th>past_3_years_bike_related_purchases</th>\n",
       "      <th>job_industry_category</th>\n",
       "      <th>wealth_segment</th>\n",
       "      <th>deceased_indicator</th>\n",
       "      <th>owns_car</th>\n",
       "      <th>tenure</th>\n",
       "      <th>Age</th>\n",
       "      <th>age_bins</th>\n",
       "      <th>address</th>\n",
       "      <th>postcode</th>\n",
       "      <th>state</th>\n",
       "      <th>country</th>\n",
       "      <th>property_valuation</th>\n",
       "    </tr>\n",
       "  </thead>\n",
       "  <tbody>\n",
       "    <tr>\n",
       "      <th>0</th>\n",
       "      <td>5</td>\n",
       "      <td>Sheila-kathryn</td>\n",
       "      <td>Female</td>\n",
       "      <td>3997.0</td>\n",
       "      <td>NaN</td>\n",
       "      <td>Affluent Customer</td>\n",
       "      <td>N</td>\n",
       "      <td>Yes</td>\n",
       "      <td>8.0</td>\n",
       "      <td>43.0</td>\n",
       "      <td>(40, 60]</td>\n",
       "      <td>17979 Del Mar Point</td>\n",
       "      <td>2448.0</td>\n",
       "      <td>New South Wales</td>\n",
       "      <td>Australia</td>\n",
       "      <td>4.0</td>\n",
       "    </tr>\n",
       "    <tr>\n",
       "      <th>35</th>\n",
       "      <td>1282</td>\n",
       "      <td>Garald</td>\n",
       "      <td>Male</td>\n",
       "      <td>99.0</td>\n",
       "      <td>Entertainment</td>\n",
       "      <td>Affluent Customer</td>\n",
       "      <td>N</td>\n",
       "      <td>Yes</td>\n",
       "      <td>14.0</td>\n",
       "      <td>40.0</td>\n",
       "      <td>(20, 40]</td>\n",
       "      <td>791 Elgar Trail</td>\n",
       "      <td>4340.0</td>\n",
       "      <td>Queensland</td>\n",
       "      <td>Australia</td>\n",
       "      <td>5.0</td>\n",
       "    </tr>\n",
       "    <tr>\n",
       "      <th>25</th>\n",
       "      <td>2058</td>\n",
       "      <td>Ronna</td>\n",
       "      <td>Female</td>\n",
       "      <td>99.0</td>\n",
       "      <td>Argiculture</td>\n",
       "      <td>High Net Worth</td>\n",
       "      <td>N</td>\n",
       "      <td>No</td>\n",
       "      <td>7.0</td>\n",
       "      <td>42.0</td>\n",
       "      <td>(40, 60]</td>\n",
       "      <td>9362 Grim Plaza</td>\n",
       "      <td>4702.0</td>\n",
       "      <td>Queensland</td>\n",
       "      <td>Australia</td>\n",
       "      <td>1.0</td>\n",
       "    </tr>\n",
       "    <tr>\n",
       "      <th>26</th>\n",
       "      <td>2057</td>\n",
       "      <td>Elianora</td>\n",
       "      <td>Female</td>\n",
       "      <td>99.0</td>\n",
       "      <td>Manufacturing</td>\n",
       "      <td>Affluent Customer</td>\n",
       "      <td>N</td>\n",
       "      <td>Yes</td>\n",
       "      <td>15.0</td>\n",
       "      <td>61.0</td>\n",
       "      <td>(60, 90]</td>\n",
       "      <td>2807 Northwestern Pass</td>\n",
       "      <td>3182.0</td>\n",
       "      <td>Victoria</td>\n",
       "      <td>Australia</td>\n",
       "      <td>8.0</td>\n",
       "    </tr>\n",
       "    <tr>\n",
       "      <th>27</th>\n",
       "      <td>2031</td>\n",
       "      <td>Philbert</td>\n",
       "      <td>Male</td>\n",
       "      <td>99.0</td>\n",
       "      <td>NaN</td>\n",
       "      <td>Mass Customer</td>\n",
       "      <td>N</td>\n",
       "      <td>No</td>\n",
       "      <td>12.0</td>\n",
       "      <td>33.0</td>\n",
       "      <td>(20, 40]</td>\n",
       "      <td>34 3rd Place</td>\n",
       "      <td>3030.0</td>\n",
       "      <td>Victoria</td>\n",
       "      <td>Australia</td>\n",
       "      <td>8.0</td>\n",
       "    </tr>\n",
       "    <tr>\n",
       "      <th>...</th>\n",
       "      <td>...</td>\n",
       "      <td>...</td>\n",
       "      <td>...</td>\n",
       "      <td>...</td>\n",
       "      <td>...</td>\n",
       "      <td>...</td>\n",
       "      <td>...</td>\n",
       "      <td>...</td>\n",
       "      <td>...</td>\n",
       "      <td>...</td>\n",
       "      <td>...</td>\n",
       "      <td>...</td>\n",
       "      <td>...</td>\n",
       "      <td>...</td>\n",
       "      <td>...</td>\n",
       "      <td>...</td>\n",
       "    </tr>\n",
       "    <tr>\n",
       "      <th>1013</th>\n",
       "      <td>1869</td>\n",
       "      <td>Neda</td>\n",
       "      <td>Female</td>\n",
       "      <td>73.0</td>\n",
       "      <td>Financial Services</td>\n",
       "      <td>High Net Worth</td>\n",
       "      <td>N</td>\n",
       "      <td>Yes</td>\n",
       "      <td>9.0</td>\n",
       "      <td>43.0</td>\n",
       "      <td>(40, 60]</td>\n",
       "      <td>765 6th Plaza</td>\n",
       "      <td>4226.0</td>\n",
       "      <td>Queensland</td>\n",
       "      <td>Australia</td>\n",
       "      <td>7.0</td>\n",
       "    </tr>\n",
       "    <tr>\n",
       "      <th>1023</th>\n",
       "      <td>961</td>\n",
       "      <td>Rosamund</td>\n",
       "      <td>Female</td>\n",
       "      <td>73.0</td>\n",
       "      <td>Financial Services</td>\n",
       "      <td>Mass Customer</td>\n",
       "      <td>N</td>\n",
       "      <td>No</td>\n",
       "      <td>6.0</td>\n",
       "      <td>34.0</td>\n",
       "      <td>(20, 40]</td>\n",
       "      <td>382 Dayton Lane</td>\n",
       "      <td>2148.0</td>\n",
       "      <td>New South Wales</td>\n",
       "      <td>Australia</td>\n",
       "      <td>8.0</td>\n",
       "    </tr>\n",
       "    <tr>\n",
       "      <th>1022</th>\n",
       "      <td>2219</td>\n",
       "      <td>Ansel</td>\n",
       "      <td>Male</td>\n",
       "      <td>73.0</td>\n",
       "      <td>NaN</td>\n",
       "      <td>High Net Worth</td>\n",
       "      <td>N</td>\n",
       "      <td>Yes</td>\n",
       "      <td>3.0</td>\n",
       "      <td>38.0</td>\n",
       "      <td>(20, 40]</td>\n",
       "      <td>079 Katie Alley</td>\n",
       "      <td>3216.0</td>\n",
       "      <td>Victoria</td>\n",
       "      <td>Australia</td>\n",
       "      <td>9.0</td>\n",
       "    </tr>\n",
       "    <tr>\n",
       "      <th>1032</th>\n",
       "      <td>567</td>\n",
       "      <td>Hashim</td>\n",
       "      <td>Male</td>\n",
       "      <td>73.0</td>\n",
       "      <td>Financial Services</td>\n",
       "      <td>Affluent Customer</td>\n",
       "      <td>N</td>\n",
       "      <td>No</td>\n",
       "      <td>16.0</td>\n",
       "      <td>55.0</td>\n",
       "      <td>(40, 60]</td>\n",
       "      <td>04 Hansons Street</td>\n",
       "      <td>2087.0</td>\n",
       "      <td>New South Wales</td>\n",
       "      <td>Australia</td>\n",
       "      <td>11.0</td>\n",
       "    </tr>\n",
       "    <tr>\n",
       "      <th>1024</th>\n",
       "      <td>517</td>\n",
       "      <td>Iona</td>\n",
       "      <td>Female</td>\n",
       "      <td>73.0</td>\n",
       "      <td>Property</td>\n",
       "      <td>Mass Customer</td>\n",
       "      <td>N</td>\n",
       "      <td>Yes</td>\n",
       "      <td>3.0</td>\n",
       "      <td>35.0</td>\n",
       "      <td>(20, 40]</td>\n",
       "      <td>590 Hayes Court</td>\n",
       "      <td>2027.0</td>\n",
       "      <td>New South Wales</td>\n",
       "      <td>Australia</td>\n",
       "      <td>11.0</td>\n",
       "    </tr>\n",
       "  </tbody>\n",
       "</table>\n",
       "<p>999 rows × 16 columns</p>\n",
       "</div>"
      ],
      "text/plain": [
       "      customer_id      first_name  gender  \\\n",
       "0               5  Sheila-kathryn  Female   \n",
       "35           1282          Garald    Male   \n",
       "25           2058           Ronna  Female   \n",
       "26           2057        Elianora  Female   \n",
       "27           2031        Philbert    Male   \n",
       "...           ...             ...     ...   \n",
       "1013         1869            Neda  Female   \n",
       "1023          961        Rosamund  Female   \n",
       "1022         2219           Ansel    Male   \n",
       "1032          567          Hashim    Male   \n",
       "1024          517            Iona  Female   \n",
       "\n",
       "      past_3_years_bike_related_purchases job_industry_category  \\\n",
       "0                                  3997.0                   NaN   \n",
       "35                                   99.0         Entertainment   \n",
       "25                                   99.0           Argiculture   \n",
       "26                                   99.0         Manufacturing   \n",
       "27                                   99.0                   NaN   \n",
       "...                                   ...                   ...   \n",
       "1013                                 73.0    Financial Services   \n",
       "1023                                 73.0    Financial Services   \n",
       "1022                                 73.0                   NaN   \n",
       "1032                                 73.0    Financial Services   \n",
       "1024                                 73.0              Property   \n",
       "\n",
       "         wealth_segment deceased_indicator owns_car  tenure   Age  age_bins  \\\n",
       "0     Affluent Customer                  N      Yes     8.0  43.0  (40, 60]   \n",
       "35    Affluent Customer                  N      Yes    14.0  40.0  (20, 40]   \n",
       "25       High Net Worth                  N       No     7.0  42.0  (40, 60]   \n",
       "26    Affluent Customer                  N      Yes    15.0  61.0  (60, 90]   \n",
       "27        Mass Customer                  N       No    12.0  33.0  (20, 40]   \n",
       "...                 ...                ...      ...     ...   ...       ...   \n",
       "1013     High Net Worth                  N      Yes     9.0  43.0  (40, 60]   \n",
       "1023      Mass Customer                  N       No     6.0  34.0  (20, 40]   \n",
       "1022     High Net Worth                  N      Yes     3.0  38.0  (20, 40]   \n",
       "1032  Affluent Customer                  N       No    16.0  55.0  (40, 60]   \n",
       "1024      Mass Customer                  N      Yes     3.0  35.0  (20, 40]   \n",
       "\n",
       "                     address  postcode            state    country  \\\n",
       "0        17979 Del Mar Point    2448.0  New South Wales  Australia   \n",
       "35           791 Elgar Trail    4340.0       Queensland  Australia   \n",
       "25           9362 Grim Plaza    4702.0       Queensland  Australia   \n",
       "26    2807 Northwestern Pass    3182.0         Victoria  Australia   \n",
       "27              34 3rd Place    3030.0         Victoria  Australia   \n",
       "...                      ...       ...              ...        ...   \n",
       "1013           765 6th Plaza    4226.0       Queensland  Australia   \n",
       "1023         382 Dayton Lane    2148.0  New South Wales  Australia   \n",
       "1022         079 Katie Alley    3216.0         Victoria  Australia   \n",
       "1032       04 Hansons Street    2087.0  New South Wales  Australia   \n",
       "1024         590 Hayes Court    2027.0  New South Wales  Australia   \n",
       "\n",
       "      property_valuation  \n",
       "0                    4.0  \n",
       "35                   5.0  \n",
       "25                   1.0  \n",
       "26                   8.0  \n",
       "27                   8.0  \n",
       "...                  ...  \n",
       "1013                 7.0  \n",
       "1023                 8.0  \n",
       "1022                 9.0  \n",
       "1032                11.0  \n",
       "1024                11.0  \n",
       "\n",
       "[999 rows x 16 columns]"
      ]
     },
     "execution_count": 142,
     "metadata": {},
     "output_type": "execute_result"
    }
   ],
   "source": [
    "#dropping unnecessary columns\n",
    "d5.dropna(subset=['address','postcode','state','country','property_valuation'],inplace=False)\n",
    "    "
   ]
  },
  {
   "cell_type": "code",
   "execution_count": 143,
   "metadata": {},
   "outputs": [
    {
     "data": {
      "text/html": [
       "<div>\n",
       "<style scoped>\n",
       "    .dataframe tbody tr th:only-of-type {\n",
       "        vertical-align: middle;\n",
       "    }\n",
       "\n",
       "    .dataframe tbody tr th {\n",
       "        vertical-align: top;\n",
       "    }\n",
       "\n",
       "    .dataframe thead th {\n",
       "        text-align: right;\n",
       "    }\n",
       "</style>\n",
       "<table border=\"1\" class=\"dataframe\">\n",
       "  <thead>\n",
       "    <tr style=\"text-align: right;\">\n",
       "      <th></th>\n",
       "      <th>customer_id</th>\n",
       "      <th>first_name</th>\n",
       "      <th>gender</th>\n",
       "      <th>past_3_years_bike_related_purchases</th>\n",
       "      <th>job_industry_category</th>\n",
       "      <th>wealth_segment</th>\n",
       "      <th>deceased_indicator</th>\n",
       "      <th>owns_car</th>\n",
       "      <th>tenure</th>\n",
       "      <th>Age</th>\n",
       "      <th>age_bins</th>\n",
       "      <th>address</th>\n",
       "      <th>postcode</th>\n",
       "      <th>state</th>\n",
       "      <th>country</th>\n",
       "      <th>property_valuation</th>\n",
       "    </tr>\n",
       "  </thead>\n",
       "  <tbody>\n",
       "    <tr>\n",
       "      <th>35</th>\n",
       "      <td>1282</td>\n",
       "      <td>Garald</td>\n",
       "      <td>Male</td>\n",
       "      <td>99.0</td>\n",
       "      <td>Entertainment</td>\n",
       "      <td>Affluent Customer</td>\n",
       "      <td>N</td>\n",
       "      <td>Yes</td>\n",
       "      <td>14.0</td>\n",
       "      <td>40.0</td>\n",
       "      <td>(20, 40]</td>\n",
       "      <td>791 Elgar Trail</td>\n",
       "      <td>4340.0</td>\n",
       "      <td>Queensland</td>\n",
       "      <td>Australia</td>\n",
       "      <td>5.0</td>\n",
       "    </tr>\n",
       "    <tr>\n",
       "      <th>25</th>\n",
       "      <td>2058</td>\n",
       "      <td>Ronna</td>\n",
       "      <td>Female</td>\n",
       "      <td>99.0</td>\n",
       "      <td>Argiculture</td>\n",
       "      <td>High Net Worth</td>\n",
       "      <td>N</td>\n",
       "      <td>No</td>\n",
       "      <td>7.0</td>\n",
       "      <td>42.0</td>\n",
       "      <td>(40, 60]</td>\n",
       "      <td>9362 Grim Plaza</td>\n",
       "      <td>4702.0</td>\n",
       "      <td>Queensland</td>\n",
       "      <td>Australia</td>\n",
       "      <td>1.0</td>\n",
       "    </tr>\n",
       "    <tr>\n",
       "      <th>26</th>\n",
       "      <td>2057</td>\n",
       "      <td>Elianora</td>\n",
       "      <td>Female</td>\n",
       "      <td>99.0</td>\n",
       "      <td>Manufacturing</td>\n",
       "      <td>Affluent Customer</td>\n",
       "      <td>N</td>\n",
       "      <td>Yes</td>\n",
       "      <td>15.0</td>\n",
       "      <td>61.0</td>\n",
       "      <td>(60, 90]</td>\n",
       "      <td>2807 Northwestern Pass</td>\n",
       "      <td>3182.0</td>\n",
       "      <td>Victoria</td>\n",
       "      <td>Australia</td>\n",
       "      <td>8.0</td>\n",
       "    </tr>\n",
       "    <tr>\n",
       "      <th>28</th>\n",
       "      <td>2013</td>\n",
       "      <td>Marge</td>\n",
       "      <td>Female</td>\n",
       "      <td>99.0</td>\n",
       "      <td>Health</td>\n",
       "      <td>Affluent Customer</td>\n",
       "      <td>N</td>\n",
       "      <td>Yes</td>\n",
       "      <td>19.0</td>\n",
       "      <td>25.0</td>\n",
       "      <td>(20, 40]</td>\n",
       "      <td>06069 Hayes Road</td>\n",
       "      <td>2099.0</td>\n",
       "      <td>New South Wales</td>\n",
       "      <td>Australia</td>\n",
       "      <td>8.0</td>\n",
       "    </tr>\n",
       "    <tr>\n",
       "      <th>30</th>\n",
       "      <td>182</td>\n",
       "      <td>Lydon</td>\n",
       "      <td>Male</td>\n",
       "      <td>99.0</td>\n",
       "      <td>Financial Services</td>\n",
       "      <td>Affluent Customer</td>\n",
       "      <td>N</td>\n",
       "      <td>Yes</td>\n",
       "      <td>7.0</td>\n",
       "      <td>28.0</td>\n",
       "      <td>(20, 40]</td>\n",
       "      <td>83012 Dapin Lane</td>\n",
       "      <td>4300.0</td>\n",
       "      <td>Queensland</td>\n",
       "      <td>Australia</td>\n",
       "      <td>4.0</td>\n",
       "    </tr>\n",
       "    <tr>\n",
       "      <th>...</th>\n",
       "      <td>...</td>\n",
       "      <td>...</td>\n",
       "      <td>...</td>\n",
       "      <td>...</td>\n",
       "      <td>...</td>\n",
       "      <td>...</td>\n",
       "      <td>...</td>\n",
       "      <td>...</td>\n",
       "      <td>...</td>\n",
       "      <td>...</td>\n",
       "      <td>...</td>\n",
       "      <td>...</td>\n",
       "      <td>...</td>\n",
       "      <td>...</td>\n",
       "      <td>...</td>\n",
       "      <td>...</td>\n",
       "    </tr>\n",
       "    <tr>\n",
       "      <th>1014</th>\n",
       "      <td>1110</td>\n",
       "      <td>Lazar</td>\n",
       "      <td>Male</td>\n",
       "      <td>73.0</td>\n",
       "      <td>Retail</td>\n",
       "      <td>High Net Worth</td>\n",
       "      <td>N</td>\n",
       "      <td>No</td>\n",
       "      <td>12.0</td>\n",
       "      <td>29.0</td>\n",
       "      <td>(20, 40]</td>\n",
       "      <td>9 Dayton Alley</td>\n",
       "      <td>3757.0</td>\n",
       "      <td>Victoria</td>\n",
       "      <td>Australia</td>\n",
       "      <td>7.0</td>\n",
       "    </tr>\n",
       "    <tr>\n",
       "      <th>1013</th>\n",
       "      <td>1869</td>\n",
       "      <td>Neda</td>\n",
       "      <td>Female</td>\n",
       "      <td>73.0</td>\n",
       "      <td>Financial Services</td>\n",
       "      <td>High Net Worth</td>\n",
       "      <td>N</td>\n",
       "      <td>Yes</td>\n",
       "      <td>9.0</td>\n",
       "      <td>43.0</td>\n",
       "      <td>(40, 60]</td>\n",
       "      <td>765 6th Plaza</td>\n",
       "      <td>4226.0</td>\n",
       "      <td>Queensland</td>\n",
       "      <td>Australia</td>\n",
       "      <td>7.0</td>\n",
       "    </tr>\n",
       "    <tr>\n",
       "      <th>1023</th>\n",
       "      <td>961</td>\n",
       "      <td>Rosamund</td>\n",
       "      <td>Female</td>\n",
       "      <td>73.0</td>\n",
       "      <td>Financial Services</td>\n",
       "      <td>Mass Customer</td>\n",
       "      <td>N</td>\n",
       "      <td>No</td>\n",
       "      <td>6.0</td>\n",
       "      <td>34.0</td>\n",
       "      <td>(20, 40]</td>\n",
       "      <td>382 Dayton Lane</td>\n",
       "      <td>2148.0</td>\n",
       "      <td>New South Wales</td>\n",
       "      <td>Australia</td>\n",
       "      <td>8.0</td>\n",
       "    </tr>\n",
       "    <tr>\n",
       "      <th>1032</th>\n",
       "      <td>567</td>\n",
       "      <td>Hashim</td>\n",
       "      <td>Male</td>\n",
       "      <td>73.0</td>\n",
       "      <td>Financial Services</td>\n",
       "      <td>Affluent Customer</td>\n",
       "      <td>N</td>\n",
       "      <td>No</td>\n",
       "      <td>16.0</td>\n",
       "      <td>55.0</td>\n",
       "      <td>(40, 60]</td>\n",
       "      <td>04 Hansons Street</td>\n",
       "      <td>2087.0</td>\n",
       "      <td>New South Wales</td>\n",
       "      <td>Australia</td>\n",
       "      <td>11.0</td>\n",
       "    </tr>\n",
       "    <tr>\n",
       "      <th>1024</th>\n",
       "      <td>517</td>\n",
       "      <td>Iona</td>\n",
       "      <td>Female</td>\n",
       "      <td>73.0</td>\n",
       "      <td>Property</td>\n",
       "      <td>Mass Customer</td>\n",
       "      <td>N</td>\n",
       "      <td>Yes</td>\n",
       "      <td>3.0</td>\n",
       "      <td>35.0</td>\n",
       "      <td>(20, 40]</td>\n",
       "      <td>590 Hayes Court</td>\n",
       "      <td>2027.0</td>\n",
       "      <td>New South Wales</td>\n",
       "      <td>Australia</td>\n",
       "      <td>11.0</td>\n",
       "    </tr>\n",
       "  </tbody>\n",
       "</table>\n",
       "<p>829 rows × 16 columns</p>\n",
       "</div>"
      ],
      "text/plain": [
       "      customer_id first_name  gender  past_3_years_bike_related_purchases  \\\n",
       "35           1282     Garald    Male                                 99.0   \n",
       "25           2058      Ronna  Female                                 99.0   \n",
       "26           2057   Elianora  Female                                 99.0   \n",
       "28           2013      Marge  Female                                 99.0   \n",
       "30            182      Lydon    Male                                 99.0   \n",
       "...           ...        ...     ...                                  ...   \n",
       "1014         1110      Lazar    Male                                 73.0   \n",
       "1013         1869       Neda  Female                                 73.0   \n",
       "1023          961   Rosamund  Female                                 73.0   \n",
       "1032          567     Hashim    Male                                 73.0   \n",
       "1024          517       Iona  Female                                 73.0   \n",
       "\n",
       "     job_industry_category     wealth_segment deceased_indicator owns_car  \\\n",
       "35           Entertainment  Affluent Customer                  N      Yes   \n",
       "25             Argiculture     High Net Worth                  N       No   \n",
       "26           Manufacturing  Affluent Customer                  N      Yes   \n",
       "28                  Health  Affluent Customer                  N      Yes   \n",
       "30      Financial Services  Affluent Customer                  N      Yes   \n",
       "...                    ...                ...                ...      ...   \n",
       "1014                Retail     High Net Worth                  N       No   \n",
       "1013    Financial Services     High Net Worth                  N      Yes   \n",
       "1023    Financial Services      Mass Customer                  N       No   \n",
       "1032    Financial Services  Affluent Customer                  N       No   \n",
       "1024              Property      Mass Customer                  N      Yes   \n",
       "\n",
       "      tenure   Age  age_bins                 address  postcode  \\\n",
       "35      14.0  40.0  (20, 40]         791 Elgar Trail    4340.0   \n",
       "25       7.0  42.0  (40, 60]         9362 Grim Plaza    4702.0   \n",
       "26      15.0  61.0  (60, 90]  2807 Northwestern Pass    3182.0   \n",
       "28      19.0  25.0  (20, 40]        06069 Hayes Road    2099.0   \n",
       "30       7.0  28.0  (20, 40]        83012 Dapin Lane    4300.0   \n",
       "...      ...   ...       ...                     ...       ...   \n",
       "1014    12.0  29.0  (20, 40]          9 Dayton Alley    3757.0   \n",
       "1013     9.0  43.0  (40, 60]           765 6th Plaza    4226.0   \n",
       "1023     6.0  34.0  (20, 40]         382 Dayton Lane    2148.0   \n",
       "1032    16.0  55.0  (40, 60]       04 Hansons Street    2087.0   \n",
       "1024     3.0  35.0  (20, 40]         590 Hayes Court    2027.0   \n",
       "\n",
       "                state    country  property_valuation  \n",
       "35         Queensland  Australia                 5.0  \n",
       "25         Queensland  Australia                 1.0  \n",
       "26           Victoria  Australia                 8.0  \n",
       "28    New South Wales  Australia                 8.0  \n",
       "30         Queensland  Australia                 4.0  \n",
       "...               ...        ...                 ...  \n",
       "1014         Victoria  Australia                 7.0  \n",
       "1013       Queensland  Australia                 7.0  \n",
       "1023  New South Wales  Australia                 8.0  \n",
       "1032  New South Wales  Australia                11.0  \n",
       "1024  New South Wales  Australia                11.0  \n",
       "\n",
       "[829 rows x 16 columns]"
      ]
     },
     "execution_count": 143,
     "metadata": {},
     "output_type": "execute_result"
    }
   ],
   "source": [
    "d5.dropna(subset=['job_industry_category'],inplace=False)"
   ]
  },
  {
   "cell_type": "code",
   "execution_count": 144,
   "metadata": {},
   "outputs": [
    {
     "data": {
      "text/plain": [
       "customer_id                              0\n",
       "first_name                               0\n",
       "gender                                   0\n",
       "past_3_years_bike_related_purchases      0\n",
       "job_industry_category                  171\n",
       "wealth_segment                           0\n",
       "deceased_indicator                       0\n",
       "owns_car                                 0\n",
       "tenure                                   0\n",
       "Age                                      0\n",
       "age_bins                                19\n",
       "address                                  1\n",
       "postcode                                 1\n",
       "state                                    1\n",
       "country                                  1\n",
       "property_valuation                       1\n",
       "dtype: int64"
      ]
     },
     "execution_count": 144,
     "metadata": {},
     "output_type": "execute_result"
    }
   ],
   "source": [
    "d5.isnull().sum()\n"
   ]
  },
  {
   "cell_type": "code",
   "execution_count": 145,
   "metadata": {},
   "outputs": [
    {
     "data": {
      "text/plain": [
       "<matplotlib.axes._subplots.AxesSubplot at 0xaa22b47f40>"
      ]
     },
     "execution_count": 145,
     "metadata": {},
     "output_type": "execute_result"
    },
    {
     "data": {
      "image/png": "[encoded data removed]",
      "text/plain": [
       "<Figure size 432x288 with 1 Axes>"
      ]
     },
     "metadata": {
      "needs_background": "light"
     },
     "output_type": "display_data"
    }
   ],
   "source": [
    "#state vs past 3 years bike purchase\n",
    "d5.groupby('state').agg('sum')['past_3_years_bike_related_purchases'].plot(kind='barh')"
   ]
  },
  {
   "cell_type": "code",
   "execution_count": 146,
   "metadata": {},
   "outputs": [
    {
     "name": "stderr",
     "output_type": "stream",
     "text": [
      "<ipython-input-146-3eb66034c8fc>:1: SettingWithCopyWarning: \n",
      "A value is trying to be set on a copy of a slice from a DataFrame.\n",
      "Try using .loc[row_indexer,col_indexer] = value instead\n",
      "\n",
      "See the caveats in the documentation: https://pandas.pydata.org/pandas-docs/stable/user_guide/indexing.html#returning-a-view-versus-a-copy\n",
      "  d5['age_bins'] = pd.cut(x=d5['Age'], bins=[20, 40, 60, 90])\n"
     ]
    },
    {
     "data": {
      "text/html": [
       "<div>\n",
       "<style scoped>\n",
       "    .dataframe tbody tr th:only-of-type {\n",
       "        vertical-align: middle;\n",
       "    }\n",
       "\n",
       "    .dataframe tbody tr th {\n",
       "        vertical-align: top;\n",
       "    }\n",
       "\n",
       "    .dataframe thead th {\n",
       "        text-align: right;\n",
       "    }\n",
       "</style>\n",
       "<table border=\"1\" class=\"dataframe\">\n",
       "  <thead>\n",
       "    <tr style=\"text-align: right;\">\n",
       "      <th></th>\n",
       "      <th>customer_id</th>\n",
       "      <th>first_name</th>\n",
       "      <th>gender</th>\n",
       "      <th>past_3_years_bike_related_purchases</th>\n",
       "      <th>job_industry_category</th>\n",
       "      <th>wealth_segment</th>\n",
       "      <th>deceased_indicator</th>\n",
       "      <th>owns_car</th>\n",
       "      <th>tenure</th>\n",
       "      <th>Age</th>\n",
       "      <th>age_bins</th>\n",
       "      <th>address</th>\n",
       "      <th>postcode</th>\n",
       "      <th>state</th>\n",
       "      <th>country</th>\n",
       "      <th>property_valuation</th>\n",
       "    </tr>\n",
       "  </thead>\n",
       "  <tbody>\n",
       "    <tr>\n",
       "      <th>0</th>\n",
       "      <td>5</td>\n",
       "      <td>Sheila-kathryn</td>\n",
       "      <td>Female</td>\n",
       "      <td>3997.0</td>\n",
       "      <td>NaN</td>\n",
       "      <td>Affluent Customer</td>\n",
       "      <td>N</td>\n",
       "      <td>Yes</td>\n",
       "      <td>8.0</td>\n",
       "      <td>43.0</td>\n",
       "      <td>(40, 60]</td>\n",
       "      <td>17979 Del Mar Point</td>\n",
       "      <td>2448.0</td>\n",
       "      <td>New South Wales</td>\n",
       "      <td>Australia</td>\n",
       "      <td>4.0</td>\n",
       "    </tr>\n",
       "    <tr>\n",
       "      <th>35</th>\n",
       "      <td>1282</td>\n",
       "      <td>Garald</td>\n",
       "      <td>Male</td>\n",
       "      <td>99.0</td>\n",
       "      <td>Entertainment</td>\n",
       "      <td>Affluent Customer</td>\n",
       "      <td>N</td>\n",
       "      <td>Yes</td>\n",
       "      <td>14.0</td>\n",
       "      <td>40.0</td>\n",
       "      <td>(20, 40]</td>\n",
       "      <td>791 Elgar Trail</td>\n",
       "      <td>4340.0</td>\n",
       "      <td>Queensland</td>\n",
       "      <td>Australia</td>\n",
       "      <td>5.0</td>\n",
       "    </tr>\n",
       "    <tr>\n",
       "      <th>25</th>\n",
       "      <td>2058</td>\n",
       "      <td>Ronna</td>\n",
       "      <td>Female</td>\n",
       "      <td>99.0</td>\n",
       "      <td>Argiculture</td>\n",
       "      <td>High Net Worth</td>\n",
       "      <td>N</td>\n",
       "      <td>No</td>\n",
       "      <td>7.0</td>\n",
       "      <td>42.0</td>\n",
       "      <td>(40, 60]</td>\n",
       "      <td>9362 Grim Plaza</td>\n",
       "      <td>4702.0</td>\n",
       "      <td>Queensland</td>\n",
       "      <td>Australia</td>\n",
       "      <td>1.0</td>\n",
       "    </tr>\n",
       "    <tr>\n",
       "      <th>26</th>\n",
       "      <td>2057</td>\n",
       "      <td>Elianora</td>\n",
       "      <td>Female</td>\n",
       "      <td>99.0</td>\n",
       "      <td>Manufacturing</td>\n",
       "      <td>Affluent Customer</td>\n",
       "      <td>N</td>\n",
       "      <td>Yes</td>\n",
       "      <td>15.0</td>\n",
       "      <td>61.0</td>\n",
       "      <td>(60, 90]</td>\n",
       "      <td>2807 Northwestern Pass</td>\n",
       "      <td>3182.0</td>\n",
       "      <td>Victoria</td>\n",
       "      <td>Australia</td>\n",
       "      <td>8.0</td>\n",
       "    </tr>\n",
       "    <tr>\n",
       "      <th>27</th>\n",
       "      <td>2031</td>\n",
       "      <td>Philbert</td>\n",
       "      <td>Male</td>\n",
       "      <td>99.0</td>\n",
       "      <td>NaN</td>\n",
       "      <td>Mass Customer</td>\n",
       "      <td>N</td>\n",
       "      <td>No</td>\n",
       "      <td>12.0</td>\n",
       "      <td>33.0</td>\n",
       "      <td>(20, 40]</td>\n",
       "      <td>34 3rd Place</td>\n",
       "      <td>3030.0</td>\n",
       "      <td>Victoria</td>\n",
       "      <td>Australia</td>\n",
       "      <td>8.0</td>\n",
       "    </tr>\n",
       "    <tr>\n",
       "      <th>...</th>\n",
       "      <td>...</td>\n",
       "      <td>...</td>\n",
       "      <td>...</td>\n",
       "      <td>...</td>\n",
       "      <td>...</td>\n",
       "      <td>...</td>\n",
       "      <td>...</td>\n",
       "      <td>...</td>\n",
       "      <td>...</td>\n",
       "      <td>...</td>\n",
       "      <td>...</td>\n",
       "      <td>...</td>\n",
       "      <td>...</td>\n",
       "      <td>...</td>\n",
       "      <td>...</td>\n",
       "      <td>...</td>\n",
       "    </tr>\n",
       "    <tr>\n",
       "      <th>1013</th>\n",
       "      <td>1869</td>\n",
       "      <td>Neda</td>\n",
       "      <td>Female</td>\n",
       "      <td>73.0</td>\n",
       "      <td>Financial Services</td>\n",
       "      <td>High Net Worth</td>\n",
       "      <td>N</td>\n",
       "      <td>Yes</td>\n",
       "      <td>9.0</td>\n",
       "      <td>43.0</td>\n",
       "      <td>(40, 60]</td>\n",
       "      <td>765 6th Plaza</td>\n",
       "      <td>4226.0</td>\n",
       "      <td>Queensland</td>\n",
       "      <td>Australia</td>\n",
       "      <td>7.0</td>\n",
       "    </tr>\n",
       "    <tr>\n",
       "      <th>1023</th>\n",
       "      <td>961</td>\n",
       "      <td>Rosamund</td>\n",
       "      <td>Female</td>\n",
       "      <td>73.0</td>\n",
       "      <td>Financial Services</td>\n",
       "      <td>Mass Customer</td>\n",
       "      <td>N</td>\n",
       "      <td>No</td>\n",
       "      <td>6.0</td>\n",
       "      <td>34.0</td>\n",
       "      <td>(20, 40]</td>\n",
       "      <td>382 Dayton Lane</td>\n",
       "      <td>2148.0</td>\n",
       "      <td>New South Wales</td>\n",
       "      <td>Australia</td>\n",
       "      <td>8.0</td>\n",
       "    </tr>\n",
       "    <tr>\n",
       "      <th>1022</th>\n",
       "      <td>2219</td>\n",
       "      <td>Ansel</td>\n",
       "      <td>Male</td>\n",
       "      <td>73.0</td>\n",
       "      <td>NaN</td>\n",
       "      <td>High Net Worth</td>\n",
       "      <td>N</td>\n",
       "      <td>Yes</td>\n",
       "      <td>3.0</td>\n",
       "      <td>38.0</td>\n",
       "      <td>(20, 40]</td>\n",
       "      <td>079 Katie Alley</td>\n",
       "      <td>3216.0</td>\n",
       "      <td>Victoria</td>\n",
       "      <td>Australia</td>\n",
       "      <td>9.0</td>\n",
       "    </tr>\n",
       "    <tr>\n",
       "      <th>1032</th>\n",
       "      <td>567</td>\n",
       "      <td>Hashim</td>\n",
       "      <td>Male</td>\n",
       "      <td>73.0</td>\n",
       "      <td>Financial Services</td>\n",
       "      <td>Affluent Customer</td>\n",
       "      <td>N</td>\n",
       "      <td>No</td>\n",
       "      <td>16.0</td>\n",
       "      <td>55.0</td>\n",
       "      <td>(40, 60]</td>\n",
       "      <td>04 Hansons Street</td>\n",
       "      <td>2087.0</td>\n",
       "      <td>New South Wales</td>\n",
       "      <td>Australia</td>\n",
       "      <td>11.0</td>\n",
       "    </tr>\n",
       "    <tr>\n",
       "      <th>1024</th>\n",
       "      <td>517</td>\n",
       "      <td>Iona</td>\n",
       "      <td>Female</td>\n",
       "      <td>73.0</td>\n",
       "      <td>Property</td>\n",
       "      <td>Mass Customer</td>\n",
       "      <td>N</td>\n",
       "      <td>Yes</td>\n",
       "      <td>3.0</td>\n",
       "      <td>35.0</td>\n",
       "      <td>(20, 40]</td>\n",
       "      <td>590 Hayes Court</td>\n",
       "      <td>2027.0</td>\n",
       "      <td>New South Wales</td>\n",
       "      <td>Australia</td>\n",
       "      <td>11.0</td>\n",
       "    </tr>\n",
       "  </tbody>\n",
       "</table>\n",
       "<p>1000 rows × 16 columns</p>\n",
       "</div>"
      ],
      "text/plain": [
       "      customer_id      first_name  gender  \\\n",
       "0               5  Sheila-kathryn  Female   \n",
       "35           1282          Garald    Male   \n",
       "25           2058           Ronna  Female   \n",
       "26           2057        Elianora  Female   \n",
       "27           2031        Philbert    Male   \n",
       "...           ...             ...     ...   \n",
       "1013         1869            Neda  Female   \n",
       "1023          961        Rosamund  Female   \n",
       "1022         2219           Ansel    Male   \n",
       "1032          567          Hashim    Male   \n",
       "1024          517            Iona  Female   \n",
       "\n",
       "      past_3_years_bike_related_purchases job_industry_category  \\\n",
       "0                                  3997.0                   NaN   \n",
       "35                                   99.0         Entertainment   \n",
       "25                                   99.0           Argiculture   \n",
       "26                                   99.0         Manufacturing   \n",
       "27                                   99.0                   NaN   \n",
       "...                                   ...                   ...   \n",
       "1013                                 73.0    Financial Services   \n",
       "1023                                 73.0    Financial Services   \n",
       "1022                                 73.0                   NaN   \n",
       "1032                                 73.0    Financial Services   \n",
       "1024                                 73.0              Property   \n",
       "\n",
       "         wealth_segment deceased_indicator owns_car  tenure   Age  age_bins  \\\n",
       "0     Affluent Customer                  N      Yes     8.0  43.0  (40, 60]   \n",
       "35    Affluent Customer                  N      Yes    14.0  40.0  (20, 40]   \n",
       "25       High Net Worth                  N       No     7.0  42.0  (40, 60]   \n",
       "26    Affluent Customer                  N      Yes    15.0  61.0  (60, 90]   \n",
       "27        Mass Customer                  N       No    12.0  33.0  (20, 40]   \n",
       "...                 ...                ...      ...     ...   ...       ...   \n",
       "1013     High Net Worth                  N      Yes     9.0  43.0  (40, 60]   \n",
       "1023      Mass Customer                  N       No     6.0  34.0  (20, 40]   \n",
       "1022     High Net Worth                  N      Yes     3.0  38.0  (20, 40]   \n",
       "1032  Affluent Customer                  N       No    16.0  55.0  (40, 60]   \n",
       "1024      Mass Customer                  N      Yes     3.0  35.0  (20, 40]   \n",
       "\n",
       "                     address  postcode            state    country  \\\n",
       "0        17979 Del Mar Point    2448.0  New South Wales  Australia   \n",
       "35           791 Elgar Trail    4340.0       Queensland  Australia   \n",
       "25           9362 Grim Plaza    4702.0       Queensland  Australia   \n",
       "26    2807 Northwestern Pass    3182.0         Victoria  Australia   \n",
       "27              34 3rd Place    3030.0         Victoria  Australia   \n",
       "...                      ...       ...              ...        ...   \n",
       "1013           765 6th Plaza    4226.0       Queensland  Australia   \n",
       "1023         382 Dayton Lane    2148.0  New South Wales  Australia   \n",
       "1022         079 Katie Alley    3216.0         Victoria  Australia   \n",
       "1032       04 Hansons Street    2087.0  New South Wales  Australia   \n",
       "1024         590 Hayes Court    2027.0  New South Wales  Australia   \n",
       "\n",
       "      property_valuation  \n",
       "0                    4.0  \n",
       "35                   5.0  \n",
       "25                   1.0  \n",
       "26                   8.0  \n",
       "27                   8.0  \n",
       "...                  ...  \n",
       "1013                 7.0  \n",
       "1023                 8.0  \n",
       "1022                 9.0  \n",
       "1032                11.0  \n",
       "1024                11.0  \n",
       "\n",
       "[1000 rows x 16 columns]"
      ]
     },
     "execution_count": 146,
     "metadata": {},
     "output_type": "execute_result"
    }
   ],
   "source": [
    "#creating a range in Age column\n",
    "d5['age_bins'] = pd.cut(x=d5['Age'], bins=[20, 40, 60, 90])\n",
    "d5"
   ]
  },
  {
   "cell_type": "code",
   "execution_count": 147,
   "metadata": {},
   "outputs": [
    {
     "data": {
      "text/plain": [
       "Text(0, 0.5, 'past_3_years_bike_related_purchases')"
      ]
     },
     "execution_count": 147,
     "metadata": {},
     "output_type": "execute_result"
    },
    {
     "data": {
      "image/png": "[encoded data removed]",
      "text/plain": [
       "<Figure size 432x288 with 1 Axes>"
      ]
     },
     "metadata": {
      "needs_background": "light"
     },
     "output_type": "display_data"
    }
   ],
   "source": [
    "#target customer's age range of purchase\n",
    "d5.groupby('age_bins').agg('sum')['past_3_years_bike_related_purchases'].plot(kind='bar')\n",
    "plt.ylabel('past_3_years_bike_related_purchases')"
   ]
  },
  {
   "cell_type": "code",
   "execution_count": 148,
   "metadata": {},
   "outputs": [
    {
     "data": {
      "text/plain": [
       "Text(0, 0.5, 'past_3_years_bike_related_purchases')"
      ]
     },
     "execution_count": 148,
     "metadata": {},
     "output_type": "execute_result"
    },
    {
     "data": {
      "image/png": "[encoded data removed]",
      "text/plain": [
       "<Figure size 432x288 with 1 Axes>"
      ]
     },
     "metadata": {
      "needs_background": "light"
     },
     "output_type": "display_data"
    }
   ],
   "source": [
    "#target wealth segment\n",
    "d5.groupby('wealth_segment').agg('sum')['past_3_years_bike_related_purchases'].plot(kind='bar')\n",
    "plt.ylabel('past_3_years_bike_related_purchases')"
   ]
  },
  {
   "cell_type": "code",
   "execution_count": 149,
   "metadata": {},
   "outputs": [
    {
     "data": {
      "text/plain": [
       "Text(0, 0.5, 'past_3_years_bike_related_purchases')"
      ]
     },
     "execution_count": 149,
     "metadata": {},
     "output_type": "execute_result"
    },
    {
     "data": {
      "image/png": "[encoded data removed]",
      "text/plain": [
       "<Figure size 432x288 with 1 Axes>"
      ]
     },
     "metadata": {
      "needs_background": "light"
     },
     "output_type": "display_data"
    }
   ],
   "source": [
    "#target job industry\n",
    "d5.groupby('job_industry_category').agg('sum')['past_3_years_bike_related_purchases'].plot(kind='bar')\n",
    "plt.ylabel('past_3_years_bike_related_purchases')"
   ]
  },
  {
   "cell_type": "code",
   "execution_count": 152,
   "metadata": {},
   "outputs": [],
   "source": [
    "s=d5['owns_car'].value_counts()\n",
    "t=d5['state'].value_counts()"
   ]
  },
  {
   "cell_type": "code",
   "execution_count": 158,
   "metadata": {},
   "outputs": [
    {
     "data": {
      "text/plain": [
       "Text(0, 0.5, 'owns_car')"
      ]
     },
     "execution_count": 158,
     "metadata": {},
     "output_type": "execute_result"
    },
    {
     "data": {
      "image/png": "[encoded data removed]",
      "text/plain": [
       "<Figure size 432x288 with 1 Axes>"
      ]
     },
     "metadata": {
      "needs_background": "light"
     },
     "output_type": "display_data"
    }
   ],
   "source": [
    "#state that own cars\n",
    "d5.groupby('state').agg('count')['owns_car'].plot(kind='bar')\n",
    "plt.xlabel('State')\n",
    "plt.ylabel('owns_car')"
   ]
  },
  {
   "cell_type": "code",
   "execution_count": 163,
   "metadata": {},
   "outputs": [
    {
     "data": {
      "text/plain": [
       "<matplotlib.axes._subplots.AxesSubplot at 0xaa1e512190>"
      ]
     },
     "execution_count": 163,
     "metadata": {},
     "output_type": "execute_result"
    },
    {
     "data": {
      "image/png": "[encoded data removed]",
      "text/plain": [
       "<Figure size 432x288 with 1 Axes>"
      ]
     },
     "metadata": {
      "needs_background": "light"
     },
     "output_type": "display_data"
    }
   ],
   "source": [
    "#target state VS past 3 year's bike purchase\n",
    "d5.groupby('state').agg('count')['past_3_years_bike_related_purchases'].plot(kind='bar')"
   ]
  },
  {
   "cell_type": "code",
   "execution_count": 167,
   "metadata": {},
   "outputs": [],
   "source": [
    "#saving the 1000 target customer's data in csv file.\n",
    "d5.to_csv('/Users/hp/Downloads/Courses/KMPG/d5.csv')"
   ]
  },
  {
   "cell_type": "code",
   "execution_count": null,
   "metadata": {},
   "outputs": [],
   "source": []
  }
 ],
 "metadata": {
  "kernelspec": {
   "display_name": "Python 3",
   "language": "python",
   "name": "python3"
  },
  "language_info": {
   "codemirror_mode": {
    "name": "ipython",
    "version": 3
   },
   "file_extension": ".py",
   "mimetype": "text/x-python",
   "name": "python",
   "nbconvert_exporter": "python",
   "pygments_lexer": "ipython3",
   "version": "3.8.3"
  }
 },
 "nbformat": 4,
 "nbformat_minor": 4
}
