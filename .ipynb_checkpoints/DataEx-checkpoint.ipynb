{
 "cells": [
  {
   "cell_type": "code",
   "execution_count": 7,
   "metadata": {},
   "outputs": [],
   "source": [
    "import pandas as pd\n",
    "import numpy as np\n",
    "import seaborn as sns\n",
    "import datetime\n",
    "import matplotlib.pyplot as plt\n",
    "epoch=datetime.datetime.utcfromtimestamp(0)\n"
   ]
  },
  {
   "cell_type": "code",
   "execution_count": 2,
   "metadata": {},
   "outputs": [],
   "source": [
    "missing_values=[\"NA\",\"na\",\" \",\"na\"]\n",
    "data=pd.ExcelFile('KPMG_VI_New_raw_data_update_final.xlsx')\n",
    "d1=data.parse('CustomerDemographic',na_values=missing_values)\n",
    "d2=data.parse('Transactions',na_values=missing_values)\n",
    "d3=data.parse('CustomerAddress',na_values=missing_values)"
   ]
  },
  {
   "cell_type": "code",
   "execution_count": 14,
   "metadata": {},
   "outputs": [
    {
     "data": {
      "text/html": [
       "<div>\n",
       "<style scoped>\n",
       "    .dataframe tbody tr th:only-of-type {\n",
       "        vertical-align: middle;\n",
       "    }\n",
       "\n",
       "    .dataframe tbody tr th {\n",
       "        vertical-align: top;\n",
       "    }\n",
       "\n",
       "    .dataframe thead th {\n",
       "        text-align: right;\n",
       "    }\n",
       "</style>\n",
       "<table border=\"1\" class=\"dataframe\">\n",
       "  <thead>\n",
       "    <tr style=\"text-align: right;\">\n",
       "      <th></th>\n",
       "      <th>count</th>\n",
       "      <th>mean</th>\n",
       "      <th>std</th>\n",
       "      <th>min</th>\n",
       "      <th>25%</th>\n",
       "      <th>50%</th>\n",
       "      <th>75%</th>\n",
       "      <th>max</th>\n",
       "    </tr>\n",
       "  </thead>\n",
       "  <tbody>\n",
       "    <tr>\n",
       "      <th>customer_id</th>\n",
       "      <td>4000.0</td>\n",
       "      <td>2000.500000</td>\n",
       "      <td>1154.844867</td>\n",
       "      <td>1.0</td>\n",
       "      <td>1000.75</td>\n",
       "      <td>2000.5</td>\n",
       "      <td>3000.25</td>\n",
       "      <td>4000.0</td>\n",
       "    </tr>\n",
       "    <tr>\n",
       "      <th>past_3_years_bike_related_purchases</th>\n",
       "      <td>4000.0</td>\n",
       "      <td>48.890000</td>\n",
       "      <td>28.715005</td>\n",
       "      <td>0.0</td>\n",
       "      <td>24.00</td>\n",
       "      <td>48.0</td>\n",
       "      <td>73.00</td>\n",
       "      <td>99.0</td>\n",
       "    </tr>\n",
       "    <tr>\n",
       "      <th>age</th>\n",
       "      <td>3913.0</td>\n",
       "      <td>42.969333</td>\n",
       "      <td>12.796387</td>\n",
       "      <td>18.0</td>\n",
       "      <td>33.00</td>\n",
       "      <td>43.0</td>\n",
       "      <td>52.00</td>\n",
       "      <td>177.0</td>\n",
       "    </tr>\n",
       "    <tr>\n",
       "      <th>tenure</th>\n",
       "      <td>3913.0</td>\n",
       "      <td>10.657041</td>\n",
       "      <td>5.660146</td>\n",
       "      <td>1.0</td>\n",
       "      <td>6.00</td>\n",
       "      <td>11.0</td>\n",
       "      <td>15.00</td>\n",
       "      <td>22.0</td>\n",
       "    </tr>\n",
       "    <tr>\n",
       "      <th>year</th>\n",
       "      <td>3913.0</td>\n",
       "      <td>1977.030667</td>\n",
       "      <td>12.796387</td>\n",
       "      <td>1843.0</td>\n",
       "      <td>1968.00</td>\n",
       "      <td>1977.0</td>\n",
       "      <td>1987.00</td>\n",
       "      <td>2002.0</td>\n",
       "    </tr>\n",
       "  </tbody>\n",
       "</table>\n",
       "</div>"
      ],
      "text/plain": [
       "                                      count         mean          std     min  \\\n",
       "customer_id                          4000.0  2000.500000  1154.844867     1.0   \n",
       "past_3_years_bike_related_purchases  4000.0    48.890000    28.715005     0.0   \n",
       "age                                  3913.0    42.969333    12.796387    18.0   \n",
       "tenure                               3913.0    10.657041     5.660146     1.0   \n",
       "year                                 3913.0  1977.030667    12.796387  1843.0   \n",
       "\n",
       "                                         25%     50%      75%     max  \n",
       "customer_id                          1000.75  2000.5  3000.25  4000.0  \n",
       "past_3_years_bike_related_purchases    24.00    48.0    73.00    99.0  \n",
       "age                                    33.00    43.0    52.00   177.0  \n",
       "tenure                                  6.00    11.0    15.00    22.0  \n",
       "year                                 1968.00  1977.0  1987.00  2002.0  "
      ]
     },
     "execution_count": 14,
     "metadata": {},
     "output_type": "execute_result"
    }
   ],
   "source": [
    "d1.describe().T"
   ]
  },
  {
   "cell_type": "code",
   "execution_count": null,
   "metadata": {},
   "outputs": [],
   "source": []
  },
  {
   "cell_type": "code",
   "execution_count": 5,
   "metadata": {},
   "outputs": [
    {
     "name": "stdout",
     "output_type": "stream",
     "text": [
      "age                      4000\n",
      "job_industry_category     656\n",
      "job_title                 506\n",
      "default                   302\n",
      "last_name                 125\n",
      "tenure                     87\n",
      "DOB                        87\n",
      "dtype: int64\n"
     ]
    }
   ],
   "source": [
    "nullvalues = d1.loc[:, d1.isnull().any()].isnull().sum().sort_values(ascending=False)\n",
    "print(nullvalues)"
   ]
  },
  {
   "cell_type": "code",
   "execution_count": 12,
   "metadata": {},
   "outputs": [
    {
     "data": {
      "image/png": "[encoded data removed]",
      "text/plain": [
       "<Figure size 864x720 with 2 Axes>"
      ]
     },
     "metadata": {
      "needs_background": "light"
     },
     "output_type": "display_data"
    }
   ],
   "source": [
    "f,ax = plt.subplots(figsize=(12,10))\n",
    "sns.heatmap(d1.iloc[:,2:].corr(),annot=True, linewidths=.1, fmt='.1f', ax=ax)\n",
    "\n",
    "plt.show()"
   ]
  },
  {
   "cell_type": "code",
   "execution_count": 13,
   "metadata": {},
   "outputs": [
    {
     "name": "stdout",
     "output_type": "stream",
     "text": [
      "        count  count  count\n",
      "gender                     \n",
      "F           1      1      1\n",
      "Femal       1      1      1\n",
      "Female   2037      9      3\n",
      "M           1      0      1\n",
      "Male     1872      9      3\n",
      "U          88      4      3\n"
     ]
    }
   ],
   "source": [
    "unique_p = d1.groupby('gender').agg({'customer_id': 'nunique', 'job_industry_category': 'nunique', 'wealth_segment':'nunique'})\n",
    "unique_p.columns = [\"count\",\"count\", \"count\"]\n",
    "\n",
    "print(unique_p)"
   ]
  },
  {
   "cell_type": "code",
   "execution_count": null,
   "metadata": {},
   "outputs": [],
   "source": [
    "d1.nunique()"
   ]
  },
  {
   "cell_type": "code",
   "execution_count": null,
   "metadata": {},
   "outputs": [],
   "source": [
    "d1['gender'].unique()"
   ]
  },
  {
   "cell_type": "code",
   "execution_count": null,
   "metadata": {},
   "outputs": [],
   "source": [
    "d1.head()"
   ]
  },
  {
   "cell_type": "code",
   "execution_count": null,
   "metadata": {},
   "outputs": [],
   "source": [
    "d1.tail()"
   ]
  },
  {
   "cell_type": "code",
   "execution_count": null,
   "metadata": {},
   "outputs": [],
   "source": [
    "gen=d1['gender']=='Female'\n",
    "d1.where(gen,\"Female\",inplace=True)"
   ]
  },
  {
   "cell_type": "code",
   "execution_count": null,
   "metadata": {},
   "outputs": [],
   "source": [
    "d1['deceased_indicator'].unique()"
   ]
  },
  {
   "cell_type": "code",
   "execution_count": null,
   "metadata": {},
   "outputs": [],
   "source": [
    "d1.drop(['default','job_title'],inplace=True,axis=1)"
   ]
  },
  {
   "cell_type": "code",
   "execution_count": null,
   "metadata": {},
   "outputs": [],
   "source": [
    "epoch"
   ]
  },
  {
   "cell_type": "code",
   "execution_count": null,
   "metadata": {},
   "outputs": [],
   "source": [
    "d2['product_first_sold_date'] = pd.to_timedelta(d2.product_first_sold_date,unit='D')+pd.to_datetime('1899-12-30')   "
   ]
  },
  {
   "cell_type": "code",
   "execution_count": null,
   "metadata": {},
   "outputs": [],
   "source": [
    "d2"
   ]
  },
  {
   "cell_type": "code",
   "execution_count": 11,
   "metadata": {},
   "outputs": [],
   "source": [
    "d1['year'] = d1['DOB'].dt.year\n",
    "d1[['DOB','year']].head()\n",
    "age= 2020- d1['year']\n",
    "\n",
    "d1.insert(6,'age',age)"
   ]
  },
  {
   "cell_type": "code",
   "execution_count": 10,
   "metadata": {},
   "outputs": [],
   "source": [
    "d1.drop(['default', 'job_title','age'],inplace=True,axis=1)"
   ]
  },
  {
   "cell_type": "code",
   "execution_count": null,
   "metadata": {},
   "outputs": [],
   "source": []
  }
 ],
 "metadata": {
  "kernelspec": {
   "display_name": "Python 3",
   "language": "python",
   "name": "python3"
  },
  "language_info": {
   "codemirror_mode": {
    "name": "ipython",
    "version": 3
   },
   "file_extension": ".py",
   "mimetype": "text/x-python",
   "name": "python",
   "nbconvert_exporter": "python",
   "pygments_lexer": "ipython3",
   "version": "3.8.3"
  }
 },
 "nbformat": 4,
 "nbformat_minor": 4
}
